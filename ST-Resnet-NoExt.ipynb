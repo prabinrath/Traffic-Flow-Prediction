{
 "cells": [
  {
   "cell_type": "code",
   "execution_count": 1,
   "id": "505c927e-4dd8-4fc3-b411-24c3c0eba93b",
   "metadata": {},
   "outputs": [],
   "source": [
    "import torch\n",
    "import torch.nn as nn\n",
    "from collections import OrderedDict\n",
    "import numpy as np\n",
    "device = torch.device('cuda' if torch.cuda.is_available() else 'cpu')"
   ]
  },
  {
   "cell_type": "code",
   "execution_count": 2,
   "id": "e1f3c6f1-a4a9-484b-b1e0-63b96c407f92",
   "metadata": {},
   "outputs": [],
   "source": [
    "class ResidualUnit(nn.Module):\n",
    "    def __init__(self, in_channels, use_bn = False):\n",
    "        super().__init__()\n",
    "        self.use_bn = use_bn\n",
    "        if self.use_bn:\n",
    "            self.bn1 = nn.BatchNorm2d(in_channels)\n",
    "            self.bn2 = nn.BatchNorm2d(in_channels)    \n",
    "        self.conv1 = nn.Conv2d(in_channels, in_channels, kernel_size=3, stride=1, padding=1, bias=True)\n",
    "        self.conv2 = nn.Conv2d(in_channels, in_channels, kernel_size=3, stride=1, padding=1, bias=True)\n",
    "        self.relu1 = nn.ReLU()\n",
    "        self.relu2 = nn.ReLU() # maybe not be required\n",
    "\n",
    "    def forward(self, x):\n",
    "        residual = x\n",
    "        out = x\n",
    "        if self.use_bn:\n",
    "            out = self.bn1(x)\n",
    "        out = self.relu1(out)\n",
    "        out = self.conv1(out)\n",
    "        if self.use_bn:\n",
    "            out = self.bn2(out)\n",
    "        out = self.relu2(out)\n",
    "        out = self.conv2(out)\n",
    "        out += residual\n",
    "        return out\n",
    "\n",
    "class ResidualPipeline(nn.Module):\n",
    "    def __init__(self, in_channels, n_units, use_bn = False):\n",
    "        super().__init__()\n",
    "        self.conv1 = nn.Conv2d(in_channels, 64, kernel_size=3, stride=1, padding=1, bias=True)\n",
    "        self.conv2 = nn.Conv2d(64, 2, kernel_size=3, stride=1, padding=1, bias=True)\n",
    "        layers = []\n",
    "        for i in range(n_units):\n",
    "            layers.append(ResidualUnit(64, use_bn))\n",
    "        self.resnet_stack = nn.Sequential(*layers)\n",
    "        self.relu = nn.ReLU()\n",
    "        \n",
    "    def forward(self, x):\n",
    "        x = self.conv1(x)\n",
    "        x = self.resnet_stack(x)\n",
    "        x = self.relu(x) # not there in original paper\n",
    "        x = self.conv2(x)\n",
    "        return x\n",
    "    \n",
    "class STResnetNoExt(nn.Module):\n",
    "    def __init__(self, c_channel, p_channel, t_channel, n_residual_units, map_dim, use_bn = False):\n",
    "        super().__init__()\n",
    "        self.c_pipe = ResidualPipeline(c_channel, n_residual_units, use_bn)\n",
    "        self.p_pipe = ResidualPipeline(p_channel, n_residual_units, use_bn)\n",
    "        self.t_pipe = ResidualPipeline(t_channel, n_residual_units, use_bn)\n",
    "        # 1 dimension for batch processing, this class cannot process unbatched data\n",
    "        self.w_c = nn.Parameter(torch.randn(1, *map_dim))\n",
    "        self.w_p = nn.Parameter(torch.randn(1, *map_dim))\n",
    "        self.w_t = nn.Parameter(torch.randn(1, *map_dim))\n",
    "        self.tanh = nn.Tanh()\n",
    "        \n",
    "    def forward(self, x_c, x_p, x_t):\n",
    "        y_c = self.c_pipe(x_c)\n",
    "        y_p = self.p_pipe(x_p)\n",
    "        y_t = self.t_pipe(x_t)\n",
    "        # Fusion: Eliment wise product (Hadamard Product)\n",
    "        y = self.w_c*y_c + self.w_p*y_p + self.w_t*y_t\n",
    "        y = self.tanh(y)\n",
    "        return y"
   ]
  },
  {
   "cell_type": "code",
   "execution_count": 3,
   "id": "76a510d0-013c-4aff-ab42-b2f3320c5823",
   "metadata": {},
   "outputs": [
    {
     "name": "stdout",
     "output_type": "stream",
     "text": [
      "min: 0.0 max: 737.0\n",
      "torch.Size([3379, 8, 21, 12]) torch.Size([3379, 2, 21, 12]) torch.Size([3379, 2, 21, 12])\n",
      "min: 0.0 max: 737.0\n",
      "torch.Size([845, 8, 21, 12]) torch.Size([845, 2, 21, 12]) torch.Size([845, 2, 21, 12])\n"
     ]
    }
   ],
   "source": [
    "from torch.utils.data import DataLoader, SubsetRandomSampler, random_split\n",
    "from BikeNYC import BikeNYCDataset\n",
    "n_closeness = 4\n",
    "n_period = 1\n",
    "n_trend = 1\n",
    "flow_ch = 2 # Inflow and Outflow\n",
    "n_residual_units = 4\n",
    "map_dim = (flow_ch, 21,12) # Specific to dataset\n",
    "bikenyc_dataset_train = BikeNYCDataset('./Datasets/BikeNYC/',n_closeness,n_period,n_trend,0.8,True)\n",
    "bikenyc_dataset_test = BikeNYCDataset('./Datasets/BikeNYC/',n_closeness,n_period,n_trend,0.8,False)"
   ]
  },
  {
   "cell_type": "code",
   "execution_count": 4,
   "id": "374b469c-ed4f-4772-b5fe-83bbcf460614",
   "metadata": {},
   "outputs": [],
   "source": [
    "from tqdm import tqdm\n",
    "mmn = bikenyc_dataset_train.mmn\n",
    "\n",
    "def train_epoch(model,dataloader,loss_fn,optimizer):\n",
    "    train_loss = 0.0\n",
    "    model.train()\n",
    "    for x_c, x_p, x_t, y in tqdm(dataloader):\n",
    "        optimizer.zero_grad()\n",
    "        output = model(x_c, x_p, x_t)\n",
    "        loss = loss_fn(output, y)\n",
    "        loss.backward()\n",
    "        optimizer.step()\n",
    "        train_loss += loss.item()\n",
    "    return train_loss\n",
    "  \n",
    "def valid_epoch(model,dataloader,loss_fn):\n",
    "    valid_loss = 0.0\n",
    "    model.eval()\n",
    "    for x_c, x_p, x_t, y in dataloader:\n",
    "        output = model(x_c, x_p, x_t)\n",
    "        loss = loss_fn(output, y)\n",
    "        valid_loss += loss.item()\n",
    "    return valid_loss"
   ]
  },
  {
   "cell_type": "code",
   "execution_count": 5,
   "id": "227cc1ae-8f39-42a4-8f1b-a4ad2bd88d39",
   "metadata": {},
   "outputs": [
    {
     "name": "stdout",
     "output_type": "stream",
     "text": [
      "Fold 1\n"
     ]
    },
    {
     "name": "stderr",
     "output_type": "stream",
     "text": [
      "100%|██████████████████████████████████████████████████████████████████████████████████| 96/96 [00:07<00:00, 12.36it/s]\n"
     ]
    },
    {
     "name": "stdout",
     "output_type": "stream",
     "text": [
      "Epoch:1/10 | Training Loss: 44.59544027161339 | Validation Loss: 1.4695974948138175\n",
      "Saving a better model!\n"
     ]
    },
    {
     "name": "stderr",
     "output_type": "stream",
     "text": [
      "100%|██████████████████████████████████████████████████████████████████████████████████| 96/96 [00:05<00:00, 18.86it/s]\n"
     ]
    },
    {
     "name": "stdout",
     "output_type": "stream",
     "text": [
      "Epoch:2/10 | Training Loss: 0.8336429462468926 | Validation Loss: 0.721046808908677\n",
      "Saving a better model!\n"
     ]
    },
    {
     "name": "stderr",
     "output_type": "stream",
     "text": [
      "100%|██████████████████████████████████████████████████████████████████████████████████| 96/96 [00:05<00:00, 18.61it/s]\n"
     ]
    },
    {
     "name": "stdout",
     "output_type": "stream",
     "text": [
      "Epoch:3/10 | Training Loss: 0.5509316498160715 | Validation Loss: 0.5504345555277266\n",
      "Saving a better model!\n"
     ]
    },
    {
     "name": "stderr",
     "output_type": "stream",
     "text": [
      "100%|██████████████████████████████████████████████████████████████████████████████████| 96/96 [00:05<00:00, 18.86it/s]\n"
     ]
    },
    {
     "name": "stdout",
     "output_type": "stream",
     "text": [
      "Epoch:4/10 | Training Loss: 0.43416142514644973 | Validation Loss: 0.44767866755378316\n",
      "Saving a better model!\n"
     ]
    },
    {
     "name": "stderr",
     "output_type": "stream",
     "text": [
      "100%|██████████████████████████████████████████████████████████████████████████████████| 96/96 [00:05<00:00, 18.96it/s]\n"
     ]
    },
    {
     "name": "stdout",
     "output_type": "stream",
     "text": [
      "Epoch:5/10 | Training Loss: 0.36601155569035143 | Validation Loss: 0.38594717951215934\n",
      "Saving a better model!\n"
     ]
    },
    {
     "name": "stderr",
     "output_type": "stream",
     "text": [
      "100%|██████████████████████████████████████████████████████████████████████████████████| 96/96 [00:05<00:00, 18.99it/s]\n"
     ]
    },
    {
     "name": "stdout",
     "output_type": "stream",
     "text": [
      "Epoch:6/10 | Training Loss: 0.31491815191238814 | Validation Loss: 0.38381426150982195\n",
      "Saving a better model!\n"
     ]
    },
    {
     "name": "stderr",
     "output_type": "stream",
     "text": [
      "100%|██████████████████████████████████████████████████████████████████████████████████| 96/96 [00:05<00:00, 18.75it/s]\n"
     ]
    },
    {
     "name": "stdout",
     "output_type": "stream",
     "text": [
      "Epoch:7/10 | Training Loss: 0.28074064175575353 | Validation Loss: 0.31464635408841646\n",
      "Saving a better model!\n"
     ]
    },
    {
     "name": "stderr",
     "output_type": "stream",
     "text": [
      "100%|██████████████████████████████████████████████████████████████████████████████████| 96/96 [00:04<00:00, 19.23it/s]\n"
     ]
    },
    {
     "name": "stdout",
     "output_type": "stream",
     "text": [
      "Epoch:8/10 | Training Loss: 0.2573760799654453 | Validation Loss: 0.33554083073632957\n"
     ]
    },
    {
     "name": "stderr",
     "output_type": "stream",
     "text": [
      "100%|██████████████████████████████████████████████████████████████████████████████████| 96/96 [00:04<00:00, 19.47it/s]\n"
     ]
    },
    {
     "name": "stdout",
     "output_type": "stream",
     "text": [
      "Epoch:9/10 | Training Loss: 0.23704923050884194 | Validation Loss: 0.29620457542013134\n",
      "Saving a better model!\n"
     ]
    },
    {
     "name": "stderr",
     "output_type": "stream",
     "text": [
      "100%|██████████████████████████████████████████████████████████████████████████████████| 96/96 [00:04<00:00, 19.27it/s]\n"
     ]
    },
    {
     "name": "stdout",
     "output_type": "stream",
     "text": [
      "Epoch:10/10 | Training Loss: 0.23430526810270985 | Validation Loss: 0.398998331036088\n",
      "Fold 2\n"
     ]
    },
    {
     "name": "stderr",
     "output_type": "stream",
     "text": [
      "100%|██████████████████████████████████████████████████████████████████████████████████| 96/96 [00:05<00:00, 19.08it/s]\n"
     ]
    },
    {
     "name": "stdout",
     "output_type": "stream",
     "text": [
      "Epoch:1/10 | Training Loss: 44.87056462857254 | Validation Loss: 1.0973785106952374\n"
     ]
    },
    {
     "name": "stderr",
     "output_type": "stream",
     "text": [
      "100%|██████████████████████████████████████████████████████████████████████████████████| 96/96 [00:05<00:00, 18.98it/s]\n"
     ]
    },
    {
     "name": "stdout",
     "output_type": "stream",
     "text": [
      "Epoch:2/10 | Training Loss: 0.8114537988513444 | Validation Loss: 0.7712473163943319\n"
     ]
    },
    {
     "name": "stderr",
     "output_type": "stream",
     "text": [
      "100%|██████████████████████████████████████████████████████████████████████████████████| 96/96 [00:05<00:00, 19.17it/s]\n"
     ]
    },
    {
     "name": "stdout",
     "output_type": "stream",
     "text": [
      "Epoch:3/10 | Training Loss: 0.515738235575241 | Validation Loss: 0.4744118064112917\n"
     ]
    },
    {
     "name": "stderr",
     "output_type": "stream",
     "text": [
      "100%|██████████████████████████████████████████████████████████████████████████████████| 96/96 [00:04<00:00, 19.36it/s]\n"
     ]
    },
    {
     "name": "stdout",
     "output_type": "stream",
     "text": [
      "Epoch:4/10 | Training Loss: 0.4198500363891825 | Validation Loss: 0.44254442925989274\n"
     ]
    },
    {
     "name": "stderr",
     "output_type": "stream",
     "text": [
      "100%|██████████████████████████████████████████████████████████████████████████████████| 96/96 [00:05<00:00, 18.43it/s]\n"
     ]
    },
    {
     "name": "stdout",
     "output_type": "stream",
     "text": [
      "Epoch:5/10 | Training Loss: 0.3640269072029944 | Validation Loss: 0.5027877706042408\n"
     ]
    },
    {
     "name": "stderr",
     "output_type": "stream",
     "text": [
      "100%|██████████████████████████████████████████████████████████████████████████████████| 96/96 [00:04<00:00, 19.29it/s]\n"
     ]
    },
    {
     "name": "stdout",
     "output_type": "stream",
     "text": [
      "Epoch:6/10 | Training Loss: 0.342450130538539 | Validation Loss: 0.3716313810743524\n"
     ]
    },
    {
     "name": "stderr",
     "output_type": "stream",
     "text": [
      "100%|██████████████████████████████████████████████████████████████████████████████████| 96/96 [00:05<00:00, 19.11it/s]\n"
     ]
    },
    {
     "name": "stdout",
     "output_type": "stream",
     "text": [
      "Epoch:7/10 | Training Loss: 0.29003300881628846 | Validation Loss: 0.3397210250944781\n"
     ]
    },
    {
     "name": "stderr",
     "output_type": "stream",
     "text": [
      "100%|██████████████████████████████████████████████████████████████████████████████████| 96/96 [00:05<00:00, 18.49it/s]\n"
     ]
    },
    {
     "name": "stdout",
     "output_type": "stream",
     "text": [
      "Epoch:8/10 | Training Loss: 0.26845654615423703 | Validation Loss: 0.29165639820888906\n",
      "Saving a better model!\n"
     ]
    },
    {
     "name": "stderr",
     "output_type": "stream",
     "text": [
      "100%|██████████████████████████████████████████████████████████████████████████████████| 96/96 [00:05<00:00, 18.01it/s]\n"
     ]
    },
    {
     "name": "stdout",
     "output_type": "stream",
     "text": [
      "Epoch:9/10 | Training Loss: 0.23721125173121838 | Validation Loss: 0.29493333037788344\n"
     ]
    },
    {
     "name": "stderr",
     "output_type": "stream",
     "text": [
      "100%|██████████████████████████████████████████████████████████████████████████████████| 96/96 [00:04<00:00, 19.31it/s]\n"
     ]
    },
    {
     "name": "stdout",
     "output_type": "stream",
     "text": [
      "Epoch:10/10 | Training Loss: 0.24085686427125488 | Validation Loss: 0.2821447355507394\n",
      "Saving a better model!\n",
      "Fold 3\n"
     ]
    },
    {
     "name": "stderr",
     "output_type": "stream",
     "text": [
      "100%|██████████████████████████████████████████████████████████████████████████████████| 96/96 [00:05<00:00, 19.12it/s]\n"
     ]
    },
    {
     "name": "stdout",
     "output_type": "stream",
     "text": [
      "Epoch:1/10 | Training Loss: 45.54433476513289 | Validation Loss: 1.2254537040665305\n"
     ]
    },
    {
     "name": "stderr",
     "output_type": "stream",
     "text": [
      "100%|██████████████████████████████████████████████████████████████████████████████████| 96/96 [00:04<00:00, 19.86it/s]\n"
     ]
    },
    {
     "name": "stdout",
     "output_type": "stream",
     "text": [
      "Epoch:2/10 | Training Loss: 0.8285752732045789 | Validation Loss: 0.8027078780902208\n"
     ]
    },
    {
     "name": "stderr",
     "output_type": "stream",
     "text": [
      "100%|██████████████████████████████████████████████████████████████████████████████████| 96/96 [00:05<00:00, 18.91it/s]\n"
     ]
    },
    {
     "name": "stdout",
     "output_type": "stream",
     "text": [
      "Epoch:3/10 | Training Loss: 0.553905690276909 | Validation Loss: 0.519606926032072\n"
     ]
    },
    {
     "name": "stderr",
     "output_type": "stream",
     "text": [
      "100%|██████████████████████████████████████████████████████████████████████████████████| 96/96 [00:05<00:00, 18.95it/s]\n"
     ]
    },
    {
     "name": "stdout",
     "output_type": "stream",
     "text": [
      "Epoch:4/10 | Training Loss: 0.4226934583278833 | Validation Loss: 0.41912795664996083\n"
     ]
    },
    {
     "name": "stderr",
     "output_type": "stream",
     "text": [
      "100%|██████████████████████████████████████████████████████████████████████████████████| 96/96 [00:05<00:00, 18.03it/s]\n"
     ]
    },
    {
     "name": "stdout",
     "output_type": "stream",
     "text": [
      "Epoch:5/10 | Training Loss: 0.42790600458519584 | Validation Loss: 0.4136536248336882\n"
     ]
    },
    {
     "name": "stderr",
     "output_type": "stream",
     "text": [
      "100%|██████████████████████████████████████████████████████████████████████████████████| 96/96 [00:05<00:00, 18.82it/s]\n"
     ]
    },
    {
     "name": "stdout",
     "output_type": "stream",
     "text": [
      "Epoch:6/10 | Training Loss: 0.3370467367061695 | Validation Loss: 0.3628635265418058\n"
     ]
    },
    {
     "name": "stderr",
     "output_type": "stream",
     "text": [
      "100%|██████████████████████████████████████████████████████████████████████████████████| 96/96 [00:05<00:00, 18.80it/s]\n"
     ]
    },
    {
     "name": "stdout",
     "output_type": "stream",
     "text": [
      "Epoch:7/10 | Training Loss: 0.3045761351403497 | Validation Loss: 0.3648735743302565\n"
     ]
    },
    {
     "name": "stderr",
     "output_type": "stream",
     "text": [
      "100%|██████████████████████████████████████████████████████████████████████████████████| 96/96 [00:04<00:00, 19.45it/s]\n"
     ]
    },
    {
     "name": "stdout",
     "output_type": "stream",
     "text": [
      "Epoch:8/10 | Training Loss: 0.27741341816677306 | Validation Loss: 0.6549348196334387\n"
     ]
    },
    {
     "name": "stderr",
     "output_type": "stream",
     "text": [
      "100%|██████████████████████████████████████████████████████████████████████████████████| 96/96 [00:05<00:00, 18.83it/s]\n"
     ]
    },
    {
     "name": "stdout",
     "output_type": "stream",
     "text": [
      "Epoch:9/10 | Training Loss: 0.2849839865690938 | Validation Loss: 0.3601434089728361\n"
     ]
    },
    {
     "name": "stderr",
     "output_type": "stream",
     "text": [
      "100%|██████████████████████████████████████████████████████████████████████████████████| 96/96 [00:05<00:00, 19.10it/s]\n"
     ]
    },
    {
     "name": "stdout",
     "output_type": "stream",
     "text": [
      "Epoch:10/10 | Training Loss: 0.24478476022427428 | Validation Loss: 0.29670774866137983\n",
      "Fold 4\n"
     ]
    },
    {
     "name": "stderr",
     "output_type": "stream",
     "text": [
      "100%|██████████████████████████████████████████████████████████████████████████████████| 96/96 [00:05<00:00, 18.81it/s]\n"
     ]
    },
    {
     "name": "stdout",
     "output_type": "stream",
     "text": [
      "Epoch:1/10 | Training Loss: 48.701094740591955 | Validation Loss: 5.483064911069249\n"
     ]
    },
    {
     "name": "stderr",
     "output_type": "stream",
     "text": [
      "100%|██████████████████████████████████████████████████████████████████████████████████| 96/96 [00:05<00:00, 19.07it/s]\n"
     ]
    },
    {
     "name": "stdout",
     "output_type": "stream",
     "text": [
      "Epoch:2/10 | Training Loss: 5.003353582719014 | Validation Loss: 4.745972627718773\n"
     ]
    },
    {
     "name": "stderr",
     "output_type": "stream",
     "text": [
      "100%|██████████████████████████████████████████████████████████████████████████████████| 96/96 [00:05<00:00, 19.20it/s]\n"
     ]
    },
    {
     "name": "stdout",
     "output_type": "stream",
     "text": [
      "Epoch:3/10 | Training Loss: 4.658672241661275 | Validation Loss: 4.67456916944515\n"
     ]
    },
    {
     "name": "stderr",
     "output_type": "stream",
     "text": [
      "100%|██████████████████████████████████████████████████████████████████████████████████| 96/96 [00:04<00:00, 19.34it/s]\n"
     ]
    },
    {
     "name": "stdout",
     "output_type": "stream",
     "text": [
      "Epoch:4/10 | Training Loss: 4.54488174133652 | Validation Loss: 4.584370404305543\n"
     ]
    },
    {
     "name": "stderr",
     "output_type": "stream",
     "text": [
      "100%|██████████████████████████████████████████████████████████████████████████████████| 96/96 [00:05<00:00, 18.62it/s]\n"
     ]
    },
    {
     "name": "stdout",
     "output_type": "stream",
     "text": [
      "Epoch:5/10 | Training Loss: 4.47770167212469 | Validation Loss: 4.458467246512689\n"
     ]
    },
    {
     "name": "stderr",
     "output_type": "stream",
     "text": [
      "100%|██████████████████████████████████████████████████████████████████████████████████| 96/96 [00:05<00:00, 18.90it/s]\n"
     ]
    },
    {
     "name": "stdout",
     "output_type": "stream",
     "text": [
      "Epoch:6/10 | Training Loss: 4.428417310084375 | Validation Loss: 4.416564670540172\n"
     ]
    },
    {
     "name": "stderr",
     "output_type": "stream",
     "text": [
      "100%|██████████████████████████████████████████████████████████████████████████████████| 96/96 [00:04<00:00, 19.33it/s]\n"
     ]
    },
    {
     "name": "stdout",
     "output_type": "stream",
     "text": [
      "Epoch:7/10 | Training Loss: 4.35289692525917 | Validation Loss: 4.339174123910757\n"
     ]
    },
    {
     "name": "stderr",
     "output_type": "stream",
     "text": [
      "100%|██████████████████████████████████████████████████████████████████████████████████| 96/96 [00:04<00:00, 19.21it/s]\n"
     ]
    },
    {
     "name": "stdout",
     "output_type": "stream",
     "text": [
      "Epoch:8/10 | Training Loss: 4.311580248860613 | Validation Loss: 4.3096159985784945\n"
     ]
    },
    {
     "name": "stderr",
     "output_type": "stream",
     "text": [
      "100%|██████████████████████████████████████████████████████████████████████████████████| 96/96 [00:04<00:00, 19.36it/s]\n"
     ]
    },
    {
     "name": "stdout",
     "output_type": "stream",
     "text": [
      "Epoch:9/10 | Training Loss: 4.290081473723402 | Validation Loss: 4.3224024575137525\n"
     ]
    },
    {
     "name": "stderr",
     "output_type": "stream",
     "text": [
      "100%|██████████████████████████████████████████████████████████████████████████████████| 96/96 [00:04<00:00, 19.30it/s]\n"
     ]
    },
    {
     "name": "stdout",
     "output_type": "stream",
     "text": [
      "Epoch:10/10 | Training Loss: 4.270823061917025 | Validation Loss: 4.306023885512493\n",
      "Fold 5\n"
     ]
    },
    {
     "name": "stderr",
     "output_type": "stream",
     "text": [
      "100%|██████████████████████████████████████████████████████████████████████████████████| 96/96 [00:05<00:00, 18.89it/s]\n"
     ]
    },
    {
     "name": "stdout",
     "output_type": "stream",
     "text": [
      "Epoch:1/10 | Training Loss: 51.666935145796145 | Validation Loss: 13.507030735354451\n"
     ]
    },
    {
     "name": "stderr",
     "output_type": "stream",
     "text": [
      "100%|██████████████████████████████████████████████████████████████████████████████████| 96/96 [00:04<00:00, 19.28it/s]\n"
     ]
    },
    {
     "name": "stdout",
     "output_type": "stream",
     "text": [
      "Epoch:2/10 | Training Loss: 12.840898262909548 | Validation Loss: 12.98271757046852\n"
     ]
    },
    {
     "name": "stderr",
     "output_type": "stream",
     "text": [
      "100%|██████████████████████████████████████████████████████████████████████████████████| 96/96 [00:05<00:00, 18.86it/s]\n"
     ]
    },
    {
     "name": "stdout",
     "output_type": "stream",
     "text": [
      "Epoch:3/10 | Training Loss: 12.58309001383206 | Validation Loss: 12.547136972641804\n"
     ]
    },
    {
     "name": "stderr",
     "output_type": "stream",
     "text": [
      "100%|██████████████████████████████████████████████████████████████████████████████████| 96/96 [00:05<00:00, 19.04it/s]\n"
     ]
    },
    {
     "name": "stdout",
     "output_type": "stream",
     "text": [
      "Epoch:4/10 | Training Loss: 12.456448710227397 | Validation Loss: 12.564009536652875\n"
     ]
    },
    {
     "name": "stderr",
     "output_type": "stream",
     "text": [
      "100%|██████████████████████████████████████████████████████████████████████████████████| 96/96 [00:04<00:00, 19.64it/s]\n"
     ]
    },
    {
     "name": "stdout",
     "output_type": "stream",
     "text": [
      "Epoch:5/10 | Training Loss: 12.40970853487546 | Validation Loss: 12.527578049157498\n"
     ]
    },
    {
     "name": "stderr",
     "output_type": "stream",
     "text": [
      "100%|██████████████████████████████████████████████████████████████████████████████████| 96/96 [00:05<00:00, 18.62it/s]\n"
     ]
    },
    {
     "name": "stdout",
     "output_type": "stream",
     "text": [
      "Epoch:6/10 | Training Loss: 12.350198412678502 | Validation Loss: 12.376957729723326\n"
     ]
    },
    {
     "name": "stderr",
     "output_type": "stream",
     "text": [
      "100%|██████████████████████████████████████████████████████████████████████████████████| 96/96 [00:04<00:00, 19.50it/s]\n"
     ]
    },
    {
     "name": "stdout",
     "output_type": "stream",
     "text": [
      "Epoch:7/10 | Training Loss: 12.307437330984198 | Validation Loss: 12.378754926151073\n"
     ]
    },
    {
     "name": "stderr",
     "output_type": "stream",
     "text": [
      "100%|██████████████████████████████████████████████████████████████████████████████████| 96/96 [00:05<00:00, 19.03it/s]\n"
     ]
    },
    {
     "name": "stdout",
     "output_type": "stream",
     "text": [
      "Epoch:8/10 | Training Loss: 12.298298308583554 | Validation Loss: 12.557861734424117\n"
     ]
    },
    {
     "name": "stderr",
     "output_type": "stream",
     "text": [
      "100%|██████████████████████████████████████████████████████████████████████████████████| 96/96 [00:05<00:00, 18.93it/s]\n"
     ]
    },
    {
     "name": "stdout",
     "output_type": "stream",
     "text": [
      "Epoch:9/10 | Training Loss: 12.273826278616276 | Validation Loss: 12.34279573880709\n"
     ]
    },
    {
     "name": "stderr",
     "output_type": "stream",
     "text": [
      "100%|██████████████████████████████████████████████████████████████████████████████████| 96/96 [00:05<00:00, 18.83it/s]\n"
     ]
    },
    {
     "name": "stdout",
     "output_type": "stream",
     "text": [
      "Epoch:10/10 | Training Loss: 12.26215790933937 | Validation Loss: 12.283643372665496\n",
      "Fold 6\n"
     ]
    },
    {
     "name": "stderr",
     "output_type": "stream",
     "text": [
      "100%|██████████████████████████████████████████████████████████████████████████████████| 96/96 [00:05<00:00, 19.05it/s]\n"
     ]
    },
    {
     "name": "stdout",
     "output_type": "stream",
     "text": [
      "Epoch:1/10 | Training Loss: 41.84917958397804 | Validation Loss: 1.5667381060899361\n"
     ]
    },
    {
     "name": "stderr",
     "output_type": "stream",
     "text": [
      "100%|██████████████████████████████████████████████████████████████████████████████████| 96/96 [00:05<00:00, 18.73it/s]\n"
     ]
    },
    {
     "name": "stdout",
     "output_type": "stream",
     "text": [
      "Epoch:2/10 | Training Loss: 0.7902553457839048 | Validation Loss: 0.7771916558756631\n"
     ]
    },
    {
     "name": "stderr",
     "output_type": "stream",
     "text": [
      "100%|██████████████████████████████████████████████████████████████████████████████████| 96/96 [00:05<00:00, 18.03it/s]\n"
     ]
    },
    {
     "name": "stdout",
     "output_type": "stream",
     "text": [
      "Epoch:3/10 | Training Loss: 0.5198863482875128 | Validation Loss: 0.7906517643900313\n"
     ]
    },
    {
     "name": "stderr",
     "output_type": "stream",
     "text": [
      "100%|██████████████████████████████████████████████████████████████████████████████████| 96/96 [00:05<00:00, 18.41it/s]\n"
     ]
    },
    {
     "name": "stdout",
     "output_type": "stream",
     "text": [
      "Epoch:4/10 | Training Loss: 0.4103440182630814 | Validation Loss: 0.4587458971689439\n"
     ]
    },
    {
     "name": "stderr",
     "output_type": "stream",
     "text": [
      "100%|██████████████████████████████████████████████████████████████████████████████████| 96/96 [00:04<00:00, 19.25it/s]\n"
     ]
    },
    {
     "name": "stdout",
     "output_type": "stream",
     "text": [
      "Epoch:5/10 | Training Loss: 0.34272561912001925 | Validation Loss: 0.4887414768602721\n"
     ]
    },
    {
     "name": "stderr",
     "output_type": "stream",
     "text": [
      "100%|██████████████████████████████████████████████████████████████████████████████████| 96/96 [00:05<00:00, 19.19it/s]\n"
     ]
    },
    {
     "name": "stdout",
     "output_type": "stream",
     "text": [
      "Epoch:6/10 | Training Loss: 0.3086542561821779 | Validation Loss: 0.46734953490940073\n"
     ]
    },
    {
     "name": "stderr",
     "output_type": "stream",
     "text": [
      "100%|██████████████████████████████████████████████████████████████████████████████████| 96/96 [00:04<00:00, 19.26it/s]\n"
     ]
    },
    {
     "name": "stdout",
     "output_type": "stream",
     "text": [
      "Epoch:7/10 | Training Loss: 0.2722749501755856 | Validation Loss: 0.33082241701656545\n"
     ]
    },
    {
     "name": "stderr",
     "output_type": "stream",
     "text": [
      "100%|██████████████████████████████████████████████████████████████████████████████████| 96/96 [00:05<00:00, 18.24it/s]\n"
     ]
    },
    {
     "name": "stdout",
     "output_type": "stream",
     "text": [
      "Epoch:8/10 | Training Loss: 0.2500845243255781 | Validation Loss: 0.31735194505319086\n"
     ]
    },
    {
     "name": "stderr",
     "output_type": "stream",
     "text": [
      "100%|██████████████████████████████████████████████████████████████████████████████████| 96/96 [00:05<00:00, 18.30it/s]\n"
     ]
    },
    {
     "name": "stdout",
     "output_type": "stream",
     "text": [
      "Epoch:9/10 | Training Loss: 0.22661687072583306 | Validation Loss: 2.089826256565794\n"
     ]
    },
    {
     "name": "stderr",
     "output_type": "stream",
     "text": [
      "100%|██████████████████████████████████████████████████████████████████████████████████| 96/96 [00:05<00:00, 18.74it/s]\n"
     ]
    },
    {
     "name": "stdout",
     "output_type": "stream",
     "text": [
      "Epoch:10/10 | Training Loss: 0.27251327238224793 | Validation Loss: 1.151557279056346\n",
      "Fold 7\n"
     ]
    },
    {
     "name": "stderr",
     "output_type": "stream",
     "text": [
      "100%|██████████████████████████████████████████████████████████████████████████████████| 96/96 [00:05<00:00, 17.61it/s]\n"
     ]
    },
    {
     "name": "stdout",
     "output_type": "stream",
     "text": [
      "Epoch:1/10 | Training Loss: 46.266409510807236 | Validation Loss: 5.946432440943972\n"
     ]
    },
    {
     "name": "stderr",
     "output_type": "stream",
     "text": [
      "100%|██████████████████████████████████████████████████████████████████████████████████| 96/96 [00:05<00:00, 18.08it/s]\n"
     ]
    },
    {
     "name": "stdout",
     "output_type": "stream",
     "text": [
      "Epoch:2/10 | Training Loss: 5.0028071619891215 | Validation Loss: 4.697737676857491\n"
     ]
    },
    {
     "name": "stderr",
     "output_type": "stream",
     "text": [
      "100%|██████████████████████████████████████████████████████████████████████████████████| 96/96 [00:05<00:00, 18.58it/s]\n"
     ]
    },
    {
     "name": "stdout",
     "output_type": "stream",
     "text": [
      "Epoch:3/10 | Training Loss: 4.63758217853294 | Validation Loss: 4.611240770689834\n"
     ]
    },
    {
     "name": "stderr",
     "output_type": "stream",
     "text": [
      "100%|██████████████████████████████████████████████████████████████████████████████████| 96/96 [00:04<00:00, 19.28it/s]\n"
     ]
    },
    {
     "name": "stdout",
     "output_type": "stream",
     "text": [
      "Epoch:4/10 | Training Loss: 4.493616480452573 | Validation Loss: 4.4434355109401\n"
     ]
    },
    {
     "name": "stderr",
     "output_type": "stream",
     "text": [
      "100%|██████████████████████████████████████████████████████████████████████████████████| 96/96 [00:05<00:00, 18.90it/s]\n"
     ]
    },
    {
     "name": "stdout",
     "output_type": "stream",
     "text": [
      "Epoch:5/10 | Training Loss: 4.3902582071675 | Validation Loss: 4.363796301847379\n"
     ]
    },
    {
     "name": "stderr",
     "output_type": "stream",
     "text": [
      "100%|██████████████████████████████████████████████████████████████████████████████████| 96/96 [00:05<00:00, 19.15it/s]\n"
     ]
    },
    {
     "name": "stdout",
     "output_type": "stream",
     "text": [
      "Epoch:6/10 | Training Loss: 4.336307840181079 | Validation Loss: 4.342137105366182\n"
     ]
    },
    {
     "name": "stderr",
     "output_type": "stream",
     "text": [
      "100%|██████████████████████████████████████████████████████████████████████████████████| 96/96 [00:05<00:00, 18.55it/s]\n"
     ]
    },
    {
     "name": "stdout",
     "output_type": "stream",
     "text": [
      "Epoch:7/10 | Training Loss: 4.302290209889686 | Validation Loss: 4.286898234892174\n"
     ]
    },
    {
     "name": "stderr",
     "output_type": "stream",
     "text": [
      "100%|██████████████████████████████████████████████████████████████████████████████████| 96/96 [00:05<00:00, 18.59it/s]\n"
     ]
    },
    {
     "name": "stdout",
     "output_type": "stream",
     "text": [
      "Epoch:8/10 | Training Loss: 4.271524288198815 | Validation Loss: 4.368031902426093\n"
     ]
    },
    {
     "name": "stderr",
     "output_type": "stream",
     "text": [
      "100%|██████████████████████████████████████████████████████████████████████████████████| 96/96 [00:05<00:00, 18.98it/s]\n"
     ]
    },
    {
     "name": "stdout",
     "output_type": "stream",
     "text": [
      "Epoch:9/10 | Training Loss: 4.247451636556809 | Validation Loss: 4.283029319266595\n"
     ]
    },
    {
     "name": "stderr",
     "output_type": "stream",
     "text": [
      "100%|██████████████████████████████████████████████████████████████████████████████████| 96/96 [00:04<00:00, 19.27it/s]\n"
     ]
    },
    {
     "name": "stdout",
     "output_type": "stream",
     "text": [
      "Epoch:10/10 | Training Loss: 4.245416165809418 | Validation Loss: 4.234410957471859\n",
      "Fold 8\n"
     ]
    },
    {
     "name": "stderr",
     "output_type": "stream",
     "text": [
      "100%|██████████████████████████████████████████████████████████████████████████████████| 96/96 [00:04<00:00, 19.66it/s]\n"
     ]
    },
    {
     "name": "stdout",
     "output_type": "stream",
     "text": [
      "Epoch:1/10 | Training Loss: 37.81139845065638 | Validation Loss: 1.2417386071921805\n"
     ]
    },
    {
     "name": "stderr",
     "output_type": "stream",
     "text": [
      "100%|██████████████████████████████████████████████████████████████████████████████████| 96/96 [00:05<00:00, 19.01it/s]\n"
     ]
    },
    {
     "name": "stdout",
     "output_type": "stream",
     "text": [
      "Epoch:2/10 | Training Loss: 0.868162475420981 | Validation Loss: 0.7049167988568368\n"
     ]
    },
    {
     "name": "stderr",
     "output_type": "stream",
     "text": [
      "100%|██████████████████████████████████████████████████████████████████████████████████| 96/96 [00:05<00:00, 18.45it/s]\n"
     ]
    },
    {
     "name": "stdout",
     "output_type": "stream",
     "text": [
      "Epoch:3/10 | Training Loss: 0.5796912250668546 | Validation Loss: 0.5233497393907175\n"
     ]
    },
    {
     "name": "stderr",
     "output_type": "stream",
     "text": [
      "100%|██████████████████████████████████████████████████████████████████████████████████| 96/96 [00:05<00:00, 17.98it/s]\n"
     ]
    },
    {
     "name": "stdout",
     "output_type": "stream",
     "text": [
      "Epoch:4/10 | Training Loss: 0.4639154421346276 | Validation Loss: 0.4668372566178\n"
     ]
    },
    {
     "name": "stderr",
     "output_type": "stream",
     "text": [
      "100%|██████████████████████████████████████████████████████████████████████████████████| 96/96 [00:05<00:00, 17.91it/s]\n"
     ]
    },
    {
     "name": "stdout",
     "output_type": "stream",
     "text": [
      "Epoch:5/10 | Training Loss: 0.3974098135220773 | Validation Loss: 0.43768173138770833\n"
     ]
    },
    {
     "name": "stderr",
     "output_type": "stream",
     "text": [
      "100%|██████████████████████████████████████████████████████████████████████████████████| 96/96 [00:04<00:00, 19.58it/s]\n"
     ]
    },
    {
     "name": "stdout",
     "output_type": "stream",
     "text": [
      "Epoch:6/10 | Training Loss: 0.36231444894150266 | Validation Loss: 0.4467356078018098\n"
     ]
    },
    {
     "name": "stderr",
     "output_type": "stream",
     "text": [
      "100%|██████████████████████████████████████████████████████████████████████████████████| 96/96 [00:05<00:00, 17.82it/s]\n"
     ]
    },
    {
     "name": "stdout",
     "output_type": "stream",
     "text": [
      "Epoch:7/10 | Training Loss: 0.32696677367571975 | Validation Loss: 0.34217574892664804\n"
     ]
    },
    {
     "name": "stderr",
     "output_type": "stream",
     "text": [
      "100%|██████████████████████████████████████████████████████████████████████████████████| 96/96 [00:04<00:00, 19.66it/s]\n"
     ]
    },
    {
     "name": "stdout",
     "output_type": "stream",
     "text": [
      "Epoch:8/10 | Training Loss: 0.2999021525310082 | Validation Loss: 0.3425594631736801\n"
     ]
    },
    {
     "name": "stderr",
     "output_type": "stream",
     "text": [
      "100%|██████████████████████████████████████████████████████████████████████████████████| 96/96 [00:05<00:00, 18.82it/s]\n"
     ]
    },
    {
     "name": "stdout",
     "output_type": "stream",
     "text": [
      "Epoch:9/10 | Training Loss: 0.2746117420296103 | Validation Loss: 0.3127215430581358\n"
     ]
    },
    {
     "name": "stderr",
     "output_type": "stream",
     "text": [
      "100%|██████████████████████████████████████████████████████████████████████████████████| 96/96 [00:05<00:00, 18.64it/s]\n"
     ]
    },
    {
     "name": "stdout",
     "output_type": "stream",
     "text": [
      "Epoch:10/10 | Training Loss: 0.2601178207510359 | Validation Loss: 0.30644345142432217\n",
      "Fold 9\n"
     ]
    },
    {
     "name": "stderr",
     "output_type": "stream",
     "text": [
      "100%|██████████████████████████████████████████████████████████████████████████████████| 96/96 [00:05<00:00, 18.56it/s]\n"
     ]
    },
    {
     "name": "stdout",
     "output_type": "stream",
     "text": [
      "Epoch:1/10 | Training Loss: 48.64528114954056 | Validation Loss: 1.4746885017530453\n"
     ]
    },
    {
     "name": "stderr",
     "output_type": "stream",
     "text": [
      "100%|██████████████████████████████████████████████████████████████████████████████████| 96/96 [00:05<00:00, 18.13it/s]\n"
     ]
    },
    {
     "name": "stdout",
     "output_type": "stream",
     "text": [
      "Epoch:2/10 | Training Loss: 0.8055822249503168 | Validation Loss: 1.348000977871686\n"
     ]
    },
    {
     "name": "stderr",
     "output_type": "stream",
     "text": [
      "100%|██████████████████████████████████████████████████████████████████████████████████| 96/96 [00:05<00:00, 18.95it/s]\n"
     ]
    },
    {
     "name": "stdout",
     "output_type": "stream",
     "text": [
      "Epoch:3/10 | Training Loss: 0.5153715659113003 | Validation Loss: 0.4976250857291137\n"
     ]
    },
    {
     "name": "stderr",
     "output_type": "stream",
     "text": [
      "100%|██████████████████████████████████████████████████████████████████████████████████| 96/96 [00:05<00:00, 18.94it/s]\n"
     ]
    },
    {
     "name": "stdout",
     "output_type": "stream",
     "text": [
      "Epoch:4/10 | Training Loss: 0.39792263790087967 | Validation Loss: 0.49900215758374455\n"
     ]
    },
    {
     "name": "stderr",
     "output_type": "stream",
     "text": [
      "100%|██████████████████████████████████████████████████████████████████████████████████| 96/96 [00:05<00:00, 18.57it/s]\n"
     ]
    },
    {
     "name": "stdout",
     "output_type": "stream",
     "text": [
      "Epoch:5/10 | Training Loss: 0.3425935468502007 | Validation Loss: 0.4067016240407729\n"
     ]
    },
    {
     "name": "stderr",
     "output_type": "stream",
     "text": [
      "100%|██████████████████████████████████████████████████████████████████████████████████| 96/96 [00:05<00:00, 18.25it/s]\n"
     ]
    },
    {
     "name": "stdout",
     "output_type": "stream",
     "text": [
      "Epoch:6/10 | Training Loss: 0.3112474214340738 | Validation Loss: 0.882562992840829\n"
     ]
    },
    {
     "name": "stderr",
     "output_type": "stream",
     "text": [
      "100%|██████████████████████████████████████████████████████████████████████████████████| 96/96 [00:05<00:00, 18.94it/s]\n"
     ]
    },
    {
     "name": "stdout",
     "output_type": "stream",
     "text": [
      "Epoch:7/10 | Training Loss: 0.28821226163586283 | Validation Loss: 0.3321331986308803\n"
     ]
    },
    {
     "name": "stderr",
     "output_type": "stream",
     "text": [
      "100%|██████████████████████████████████████████████████████████████████████████████████| 96/96 [00:05<00:00, 17.88it/s]\n"
     ]
    },
    {
     "name": "stdout",
     "output_type": "stream",
     "text": [
      "Epoch:8/10 | Training Loss: 0.25751981753653813 | Validation Loss: 0.3977038140833025\n"
     ]
    },
    {
     "name": "stderr",
     "output_type": "stream",
     "text": [
      "100%|██████████████████████████████████████████████████████████████████████████████████| 96/96 [00:04<00:00, 19.21it/s]\n"
     ]
    },
    {
     "name": "stdout",
     "output_type": "stream",
     "text": [
      "Epoch:9/10 | Training Loss: 0.24344767182722407 | Validation Loss: 0.27749111666481874\n",
      "Saving a better model!\n"
     ]
    },
    {
     "name": "stderr",
     "output_type": "stream",
     "text": [
      "100%|██████████████████████████████████████████████████████████████████████████████████| 96/96 [00:05<00:00, 19.17it/s]\n"
     ]
    },
    {
     "name": "stdout",
     "output_type": "stream",
     "text": [
      "Epoch:10/10 | Training Loss: 0.230657023246333 | Validation Loss: 0.2818215556398651\n",
      "Fold 10\n"
     ]
    },
    {
     "name": "stderr",
     "output_type": "stream",
     "text": [
      "100%|██████████████████████████████████████████████████████████████████████████████████| 96/96 [00:05<00:00, 18.98it/s]\n"
     ]
    },
    {
     "name": "stdout",
     "output_type": "stream",
     "text": [
      "Epoch:1/10 | Training Loss: 40.99726469049636 | Validation Loss: 1.5024132544633542\n"
     ]
    },
    {
     "name": "stderr",
     "output_type": "stream",
     "text": [
      "100%|██████████████████████████████████████████████████████████████████████████████████| 96/96 [00:05<00:00, 18.47it/s]\n"
     ]
    },
    {
     "name": "stdout",
     "output_type": "stream",
     "text": [
      "Epoch:2/10 | Training Loss: 0.8578409715987286 | Validation Loss: 0.7178486787247021\n"
     ]
    },
    {
     "name": "stderr",
     "output_type": "stream",
     "text": [
      "100%|██████████████████████████████████████████████████████████████████████████████████| 96/96 [00:05<00:00, 19.06it/s]\n"
     ]
    },
    {
     "name": "stdout",
     "output_type": "stream",
     "text": [
      "Epoch:3/10 | Training Loss: 0.5566892746069335 | Validation Loss: 0.5214959068185144\n"
     ]
    },
    {
     "name": "stderr",
     "output_type": "stream",
     "text": [
      "100%|██████████████████████████████████████████████████████████████████████████████████| 96/96 [00:05<00:00, 18.73it/s]\n"
     ]
    },
    {
     "name": "stdout",
     "output_type": "stream",
     "text": [
      "Epoch:4/10 | Training Loss: 0.43479661539657427 | Validation Loss: 0.7184836673453583\n"
     ]
    },
    {
     "name": "stderr",
     "output_type": "stream",
     "text": [
      "100%|██████████████████████████████████████████████████████████████████████████████████| 96/96 [00:05<00:00, 19.04it/s]\n"
     ]
    },
    {
     "name": "stdout",
     "output_type": "stream",
     "text": [
      "Epoch:5/10 | Training Loss: 0.3937004728390934 | Validation Loss: 0.4055925717339671\n"
     ]
    },
    {
     "name": "stderr",
     "output_type": "stream",
     "text": [
      "100%|██████████████████████████████████████████████████████████████████████████████████| 96/96 [00:05<00:00, 18.10it/s]\n"
     ]
    },
    {
     "name": "stdout",
     "output_type": "stream",
     "text": [
      "Epoch:6/10 | Training Loss: 0.3210660357133563 | Validation Loss: 1.3158128042249368\n"
     ]
    },
    {
     "name": "stderr",
     "output_type": "stream",
     "text": [
      "100%|██████████████████████████████████████████████████████████████████████████████████| 96/96 [00:05<00:00, 18.25it/s]\n"
     ]
    },
    {
     "name": "stdout",
     "output_type": "stream",
     "text": [
      "Epoch:7/10 | Training Loss: 0.29911599364584796 | Validation Loss: 0.3725254033368844\n"
     ]
    },
    {
     "name": "stderr",
     "output_type": "stream",
     "text": [
      "100%|██████████████████████████████████████████████████████████████████████████████████| 96/96 [00:05<00:00, 18.22it/s]\n"
     ]
    },
    {
     "name": "stdout",
     "output_type": "stream",
     "text": [
      "Epoch:8/10 | Training Loss: 0.2716531867968417 | Validation Loss: 0.30031733838316244\n"
     ]
    },
    {
     "name": "stderr",
     "output_type": "stream",
     "text": [
      "100%|██████████████████████████████████████████████████████████████████████████████████| 96/96 [00:04<00:00, 19.30it/s]\n"
     ]
    },
    {
     "name": "stdout",
     "output_type": "stream",
     "text": [
      "Epoch:9/10 | Training Loss: 0.2555646621949731 | Validation Loss: 0.3447334235782793\n"
     ]
    },
    {
     "name": "stderr",
     "output_type": "stream",
     "text": [
      "100%|██████████████████████████████████████████████████████████████████████████████████| 96/96 [00:05<00:00, 18.95it/s]\n"
     ]
    },
    {
     "name": "stdout",
     "output_type": "stream",
     "text": [
      "Epoch:10/10 | Training Loss: 0.23348983599119166 | Validation Loss: 0.4055712612163419\n"
     ]
    }
   ],
   "source": [
    "import torch.optim as optim\n",
    "batch_size = 32\n",
    "num_epochs = 10\n",
    "\n",
    "# train_size = int(0.9 * len(bikenyc_dataset_train))\n",
    "# valid_size = len(bikenyc_dataset_train) - train_size\n",
    "# train_idx, valid_idx = random_split(range(len(bikenyc_dataset_train)), [train_size, valid_size])\n",
    "# train_loader = DataLoader(bikenyc_dataset_train, batch_size=batch_size, sampler=SubsetRandomSampler(train_idx))\n",
    "# valid_loader = DataLoader(bikenyc_dataset_train, batch_size=batch_size, sampler=SubsetRandomSampler(valid_idx))\n",
    "\n",
    "# model = STResnetNoExt(n_closeness*flow_ch,n_period*flow_ch,n_trend*flow_ch,n_residual_units,map_dim,True).to(device)\n",
    "# optimizer = optim.Adam(model.parameters(), lr=0.001)\n",
    "# loss_fun = nn.MSELoss(reduction = 'sum')\n",
    "\n",
    "# history = {'train_loss': [], 'valid_loss': []}\n",
    "# for epoch in range(num_epochs):\n",
    "#     train_loss=train_epoch(model,train_loader,loss_fun,optimizer)/len(train_loader.sampler)\n",
    "#     valid_loss=valid_epoch(model,valid_loader,loss_fun)/len(valid_loader.sampler)\n",
    "#     print(\"Epoch:{}/{} | Training Loss: {} | Validation Loss: {}\".format(epoch + 1, num_epochs, train_loss, valid_loss))\n",
    "#     history['train_loss'].append(train_loss)\n",
    "#     history['valid_loss'].append(valid_loss)\n",
    "\n",
    "from sklearn.model_selection import KFold\n",
    "splits = KFold(n_splits=10,shuffle=True)\n",
    "foldperf={}\n",
    "least_loss_yet = 2 # maximum loss we can expect, can be any large number\n",
    "for fold, (train_idx,valid_idx) in enumerate(splits.split(np.arange(len(bikenyc_dataset_train)))):\n",
    "    print('Fold {}'.format(fold + 1))\n",
    "    train_loader = DataLoader(bikenyc_dataset_train, batch_size=batch_size, sampler=SubsetRandomSampler(train_idx))\n",
    "    valid_loader = DataLoader(bikenyc_dataset_train, batch_size=batch_size, sampler=SubsetRandomSampler(valid_idx))\n",
    "\n",
    "    model = STResnetNoExt(n_closeness*flow_ch,n_period*flow_ch,n_trend*flow_ch,n_residual_units,map_dim,True).to(device)\n",
    "    optimizer = optim.Adam(model.parameters(), lr=0.001)\n",
    "    loss_fun = nn.MSELoss(reduction = 'sum')\n",
    "\n",
    "    history = {'train_loss': [], 'valid_loss': []}\n",
    "    for epoch in range(num_epochs):\n",
    "        train_loss=train_epoch(model,train_loader,loss_fun,optimizer)/len(train_loader.sampler)\n",
    "        valid_loss=valid_epoch(model,valid_loader,loss_fun)/len(valid_loader.sampler)\n",
    "        print(\"Epoch:{}/{} | Training Loss: {} | Validation Loss: {}\".format(epoch + 1, num_epochs, train_loss, valid_loss))\n",
    "        history['train_loss'].append(train_loss)\n",
    "        history['valid_loss'].append(valid_loss)\n",
    "        if valid_loss < least_loss_yet:\n",
    "            print('Saving a better model!')\n",
    "            torch.save(model,'Checkpoints/BikeNYC/k_fold_stresnet.pt')\n",
    "            least_loss_yet = valid_loss\n",
    "        \n",
    "    foldperf['fold{}'.format(fold+1)] = history     "
   ]
  },
  {
   "cell_type": "code",
   "execution_count": 11,
   "id": "7720aa07-7750-448e-862e-f0bc66274df7",
   "metadata": {},
   "outputs": [
    {
     "name": "stdout",
     "output_type": "stream",
     "text": [
      "Map Root Mean Square Loss:  213.6592380576989\n",
      "Grid Root Mean Square Loss:  9.517138884893823\n"
     ]
    }
   ],
   "source": [
    "import math\n",
    "test_loader = DataLoader(bikenyc_dataset_test, batch_size=batch_size)\n",
    "test_loss = 0.0\n",
    "model = torch.load('Checkpoints/BikeNYC/k_fold_stresnet.pt')\n",
    "model.eval()\n",
    "for x_c, x_p, x_t, y in test_loader:\n",
    "    output = mmn.inverse_transform(model(x_c, x_p, x_t))\n",
    "    loss = loss_fun(output, mmn.inverse_transform(y))\n",
    "    test_loss += loss.item()\n",
    "rmse_loss = math.sqrt(test_loss/len(test_loader.sampler))\n",
    "print('Map Root Mean Square Loss: ', rmse_loss)\n",
    "rmse_loss = math.sqrt(test_loss/(len(test_loader.sampler)*np.prod(map_dim)))\n",
    "print('Grid Root Mean Square Loss: ', rmse_loss)"
   ]
  },
  {
   "cell_type": "code",
   "execution_count": 8,
   "id": "dcc62552-aa01-47fc-8ce2-f3a12d6f3b3e",
   "metadata": {},
   "outputs": [],
   "source": [
    "flow_pred = np.zeros((len(bikenyc_dataset_test),*map_dim))\n",
    "flow_org = np.zeros((len(bikenyc_dataset_test),*map_dim))\n",
    "for i in range(len(bikenyc_dataset_test)):\n",
    "    x_c, x_p, x_t, y = bikenyc_dataset_test[i]\n",
    "    x_c = torch.unsqueeze(x_c, 0)\n",
    "    x_p = torch.unsqueeze(x_p, 0)\n",
    "    x_t = torch.unsqueeze(x_t, 0)    \n",
    "    y_pred = model(x_c, x_p, x_t)\n",
    "    flow_org[i,:,:,:] = mmn.inverse_transform(y).cpu().detach().numpy()[:,:,:]\n",
    "    flow_pred[i,:,:,:] = mmn.inverse_transform(y_pred).cpu().detach().numpy()[:,:,:]"
   ]
  },
  {
   "cell_type": "code",
   "execution_count": 9,
   "id": "50c13254-5bad-4685-88ec-cc0d36a7356a",
   "metadata": {},
   "outputs": [
    {
     "data": {
      "image/png": "[encoded data removed]",
      "text/plain": [
       "<Figure size 640x480 with 1 Axes>"
      ]
     },
     "metadata": {},
     "output_type": "display_data"
    },
    {
     "data": {
      "image/png": "[encoded data removed]",
      "text/plain": [
       "<Figure size 640x480 with 1 Axes>"
      ]
     },
     "metadata": {},
     "output_type": "display_data"
    }
   ],
   "source": [
    "import matplotlib.pyplot as plt\n",
    "x, y = 10, 3\n",
    "\n",
    "fig = plt.figure()\n",
    "in_flow_org = flow_org[24*7*0:24*7*1,0,x,y]\n",
    "in_flow_pred = flow_pred[24*7*0:24*7*1,0,x,y]\n",
    "t = np.linspace(1, 24*7*1, num=24*7*1)\n",
    "plt.plot(t,in_flow_org,label='Inflow Org')\n",
    "plt.plot(t,in_flow_pred,label='Inflow Pred')\n",
    "plt.xticks(np.linspace(1+19, 168+19, num=8),['Tue','Wed','Thr','Fri','Sat','Sun','Mon',''])\n",
    "plt.title('Inflow in a busy NYC area from Aug 25 - 7pm to Sep 1 - 7pm, 2014')\n",
    "plt.ylabel('Flow')\n",
    "plt.legend(loc='upper right')\n",
    "plt.show()\n",
    "\n",
    "fig = plt.figure()\n",
    "out_flow_org = flow_org[24*7*0:24*7*1,1,x,y]\n",
    "out_flow_pred = flow_pred[24*7*0:24*7*1,1,x,y]\n",
    "t = np.linspace(1, 24*7*1, num=24*7*1)\n",
    "plt.plot(t,out_flow_org,label='Outflow Org')\n",
    "plt.plot(t,out_flow_pred,label='Outflow Pred')\n",
    "plt.xticks(np.linspace(1+19, 168+19, num=8),['Tue','Wed','Thr','Fri','Sat','Sun','Mon',''])\n",
    "plt.title('Outflow in a busy NYC area from Aug 25 - 7pm to Sep 1 - 7pm, 2014')\n",
    "plt.ylabel('Flow')\n",
    "plt.legend(loc='upper right')\n",
    "plt.show()"
   ]
  }
 ],
 "metadata": {
  "kernelspec": {
   "display_name": "Python 3 (ipykernel)",
   "language": "python",
   "name": "python3"
  },
  "language_info": {
   "codemirror_mode": {
    "name": "ipython",
    "version": 3
   },
   "file_extension": ".py",
   "mimetype": "text/x-python",
   "name": "python",
   "nbconvert_exporter": "python",
   "pygments_lexer": "ipython3",
   "version": "3.9.13"
  }
 },
 "nbformat": 4,
 "nbformat_minor": 5
}
