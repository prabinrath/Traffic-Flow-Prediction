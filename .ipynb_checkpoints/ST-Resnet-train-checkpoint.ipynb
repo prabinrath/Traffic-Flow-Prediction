{
 "cells": [
  {
   "cell_type": "code",
   "execution_count": 1,
   "id": "505c927e-4dd8-4fc3-b411-24c3c0eba93b",
   "metadata": {},
   "outputs": [],
   "source": [
    "import torch\n",
    "import torch.nn as nn\n",
    "from collections import OrderedDict\n",
    "device = torch.device('cuda' if torch.cuda.is_available() else 'cpu')"
   ]
  },
  {
   "cell_type": "code",
   "execution_count": 2,
   "id": "e1f3c6f1-a4a9-484b-b1e0-63b96c407f92",
   "metadata": {},
   "outputs": [],
   "source": [
    "class ResidualUnit(nn.Module):\n",
    "    def __init__(self, in_channels, use_bn = False):\n",
    "        super().__init__()\n",
    "        self.use_bn = use_bn\n",
    "        if self.use_bn:\n",
    "            self.bn1 = nn.BatchNorm2d(in_channels)\n",
    "            self.bn2 = nn.BatchNorm2d(in_channels)    \n",
    "        self.conv1 = nn.Conv2d(in_channels, in_channels, kernel_size=3, stride=1, padding=1, bias=True)\n",
    "        self.conv2 = nn.Conv2d(in_channels, in_channels, kernel_size=3, stride=1, padding=1, bias=True)\n",
    "        self.relu1 = nn.ReLU()\n",
    "        self.relu2 = nn.ReLU() # maybe not be required\n",
    "\n",
    "    def forward(self, x):\n",
    "        residual = x\n",
    "        out = x\n",
    "        if self.use_bn:\n",
    "            out = self.bn1(x)\n",
    "        out = self.relu1(out)\n",
    "        out = self.conv1(out)\n",
    "        if self.use_bn:\n",
    "            out = self.bn2(out)\n",
    "        out = self.relu2(out)\n",
    "        out = self.conv2(out)\n",
    "        out += residual\n",
    "        return out\n",
    "\n",
    "class ResidualPipeline(nn.Module):\n",
    "    def __init__(self, in_channels, n_units, use_bn = False):\n",
    "        super().__init__()\n",
    "        self.conv1 = nn.Conv2d(in_channels, 64, kernel_size=3, stride=1, padding=1, bias=True)\n",
    "        self.conv2 = nn.Conv2d(64, 2, kernel_size=3, stride=1, padding=1, bias=True)\n",
    "        layers = []\n",
    "        for i in range(n_units):\n",
    "            layers.append(ResidualUnit(64, use_bn))\n",
    "        self.resnet_stack = nn.Sequential(*layers)\n",
    "        self.relu = nn.ReLU()\n",
    "        \n",
    "    def forward(self, x):\n",
    "        x = self.conv1(x)\n",
    "        x = self.resnet_stack(x)\n",
    "        x = self.relu(x) # not there in original paper\n",
    "        x = self.conv2(x)\n",
    "        return x\n",
    "    \n",
    "class STResnet(nn.Module):\n",
    "    def __init__(self, c_channel, p_channel, t_channel, n_residual_units, map_dim, use_bn = False):\n",
    "        super().__init__()\n",
    "        self.c_pipe = ResidualPipeline(c_channel, n_residual_units, use_bn)\n",
    "        self.p_pipe = ResidualPipeline(p_channel, n_residual_units, use_bn)\n",
    "        self.t_pipe = ResidualPipeline(t_channel, n_residual_units, use_bn)\n",
    "        # 1 dimension for batch processing, this class cannot process unbatched data\n",
    "        self.w_c = nn.Parameter(torch.randn(1, *map_dim))\n",
    "        self.w_p = nn.Parameter(torch.randn(1, *map_dim))\n",
    "        self.w_t = nn.Parameter(torch.randn(1, *map_dim))\n",
    "        self.tanh = nn.Tanh()\n",
    "        \n",
    "    def forward(self, x_c, x_p, x_t):\n",
    "        y_c = self.c_pipe(x_c)\n",
    "        y_p = self.p_pipe(x_p)\n",
    "        y_t = self.t_pipe(x_t)\n",
    "        # Fusion\n",
    "        y = self.w_c*y_c + self.w_p*y_p + self.w_t*y_t # Eliment wise product (Hadamard Product)\n",
    "        y = self.tanh(y)\n",
    "        return y"
   ]
  },
  {
   "cell_type": "code",
   "execution_count": 3,
   "id": "76a510d0-013c-4aff-ab42-b2f3320c5823",
   "metadata": {},
   "outputs": [
    {
     "name": "stdout",
     "output_type": "stream",
     "text": [
      "min: 0.0 max: 737.0\n",
      "torch.Size([64, 8, 21, 12]) torch.Size([64, 2, 21, 12]) torch.Size([64, 2, 21, 12]) torch.Size([64, 2, 21, 12])\n"
     ]
    }
   ],
   "source": [
    "from torch.utils.data import DataLoader\n",
    "from BikeNYC import BikeNYCDataset\n",
    "bikenyc_dataset = BikeNYCDataset('./Datasets/BikeNYC/flow_data.npy',4,1,1,0.8,True)\n",
    "train_dataloader = DataLoader(bikenyc_dataset, batch_size=64, shuffle=True)\n",
    "x_c, x_p, x_t, y  = next(iter(train_dataloader))\n",
    "print(x_c.shape, x_p.shape, x_t.shape, y.shape)"
   ]
  },
  {
   "cell_type": "code",
   "execution_count": 4,
   "id": "374b469c-ed4f-4772-b5fe-83bbcf460614",
   "metadata": {},
   "outputs": [
    {
     "name": "stdout",
     "output_type": "stream",
     "text": [
      "torch.Size([64, 2, 21, 12])\n"
     ]
    }
   ],
   "source": [
    "model = STResnet(8,2,2,4,(2,21,12),True).to(device)\n",
    "# for name, _ in model.named_parameters():\n",
    "#     print(name)\n",
    "out = model(x_c, x_p, x_t)\n",
    "print(out.shape)"
   ]
  }
 ],
 "metadata": {
  "kernelspec": {
   "display_name": "Python 3 (ipykernel)",
   "language": "python",
   "name": "python3"
  },
  "language_info": {
   "codemirror_mode": {
    "name": "ipython",
    "version": 3
   },
   "file_extension": ".py",
   "mimetype": "text/x-python",
   "name": "python",
   "nbconvert_exporter": "python",
   "pygments_lexer": "ipython3",
   "version": "3.10.5"
  }
 },
 "nbformat": 4,
 "nbformat_minor": 5
}
