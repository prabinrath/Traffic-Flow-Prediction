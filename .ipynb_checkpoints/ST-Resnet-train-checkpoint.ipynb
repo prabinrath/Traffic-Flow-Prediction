{
 "cells": [
  {
   "cell_type": "code",
   "execution_count": 4,
   "id": "505c927e-4dd8-4fc3-b411-24c3c0eba93b",
   "metadata": {},
   "outputs": [],
   "source": [
    "import torch\n",
    "import torch.nn as nn\n",
    "from torch.utils.data import DataLoader\n",
    "from BikeNYC import BikeNYCDataset\n",
    "\n",
    "# bikenyc_dataset = BikeNYCDataset('./Datasets/BikeNYC/flow_data.npy',4,1,1,0.8,True)\n",
    "# train_dataloader = DataLoader(bikenyc_dataset, batch_size=64, shuffle=True)\n",
    "# x_c, x_p, x_t, y  = next(iter(train_dataloader))\n",
    "# print(x_c.shape, x_p.shape, x_t.shape, y.shape)"
   ]
  },
  {
   "cell_type": "code",
   "execution_count": null,
   "id": "e1f3c6f1-a4a9-484b-b1e0-63b96c407f92",
   "metadata": {},
   "outputs": [],
   "source": [
    "class ResidualUnit(nn.Module):\n",
    "    def __init__(self, in_channels, use_bn = False):\n",
    "        super().__init__()\n",
    "        if use_bn:\n",
    "            self.bn1 = nn.BatchNorm2d(in_channels)\n",
    "            self.bn2 = nn.BatchNorm2d(in_channels)    \n",
    "        self.conv1 = nn.Conv2d(in_channels, in_channels, kernel_size=3, stride=1, padding=1, bias=True)\n",
    "        self.conv2 = nn.Conv2d(in_channels, in_channels, kernel_size=3, stride=1, padding=1, bias=True)\n",
    "        self.relu1 = nn.ReLU()\n",
    "        self.relu2 = nn.ReLU() # maybe not required\n",
    "\n",
    "    def forward(self, x):\n",
    "        residual = x\n",
    "        if use_bn:\n",
    "            out = self.bn1(x)\n",
    "        out = self.relu1(out)\n",
    "        out = self.conv1(out)\n",
    "        if use_bn:\n",
    "            out = self.bn2(out)\n",
    "        out = self.relu2(out)\n",
    "        out = self.conv2(out)\n",
    "        out+=residual\n",
    "        return out\n",
    "\n",
    "class ResidualPipeline(nn.Module):\n",
    "    def __init__(self, in_channels, use_bn = False):\n",
    "        super().__init__()\n",
    "        \n",
    "    def forward(self, x):\n",
    "        return x"
   ]
  }
 ],
 "metadata": {
  "kernelspec": {
   "display_name": "Python 3 (ipykernel)",
   "language": "python",
   "name": "python3"
  },
  "language_info": {
   "codemirror_mode": {
    "name": "ipython",
    "version": 3
   },
   "file_extension": ".py",
   "mimetype": "text/x-python",
   "name": "python",
   "nbconvert_exporter": "python",
   "pygments_lexer": "ipython3",
   "version": "3.10.5"
  }
 },
 "nbformat": 4,
 "nbformat_minor": 5
}
