{
 "cells": [
  {
   "cell_type": "code",
   "execution_count": 1,
   "id": "505c927e-4dd8-4fc3-b411-24c3c0eba93b",
   "metadata": {},
   "outputs": [],
   "source": [
    "import torch\n",
    "import torch.nn as nn\n",
    "from collections import OrderedDict\n",
    "import numpy as np\n",
    "device = torch.device('cuda' if torch.cuda.is_available() else 'cpu')"
   ]
  },
  {
   "cell_type": "code",
   "execution_count": 2,
   "id": "e1f3c6f1-a4a9-484b-b1e0-63b96c407f92",
   "metadata": {},
   "outputs": [],
   "source": [
    "class ResidualUnit(nn.Module):\n",
    "    def __init__(self, in_channels, use_bn = False):\n",
    "        super().__init__()\n",
    "        self.use_bn = use_bn\n",
    "        if self.use_bn:\n",
    "            self.bn1 = nn.BatchNorm2d(in_channels)\n",
    "            self.bn2 = nn.BatchNorm2d(in_channels)    \n",
    "        self.conv1 = nn.Conv2d(in_channels, in_channels, kernel_size=3, stride=1, padding=1, bias=True)\n",
    "        self.conv2 = nn.Conv2d(in_channels, in_channels, kernel_size=3, stride=1, padding=1, bias=True)\n",
    "        self.relu1 = nn.ReLU()\n",
    "        self.relu2 = nn.ReLU() # maybe not be required\n",
    "\n",
    "    def forward(self, x):\n",
    "        residual = x\n",
    "        out = x\n",
    "        if self.use_bn:\n",
    "            out = self.bn1(x)\n",
    "        out = self.relu1(out)\n",
    "        out = self.conv1(out)\n",
    "        if self.use_bn:\n",
    "            out = self.bn2(out)\n",
    "        out = self.relu2(out)\n",
    "        out = self.conv2(out)\n",
    "        out += residual\n",
    "        return out\n",
    "\n",
    "class ResidualPipeline(nn.Module):\n",
    "    def __init__(self, in_channels, n_units, use_bn = False):\n",
    "        super().__init__()\n",
    "        self.conv1 = nn.Conv2d(in_channels, 64, kernel_size=3, stride=1, padding=1, bias=True)\n",
    "        self.conv2 = nn.Conv2d(64, 2, kernel_size=3, stride=1, padding=1, bias=True)\n",
    "        layers = []\n",
    "        for i in range(n_units):\n",
    "            layers.append(ResidualUnit(64, use_bn))\n",
    "        self.resnet_stack = nn.Sequential(*layers)\n",
    "        self.relu = nn.ReLU()\n",
    "        \n",
    "    def forward(self, x):\n",
    "        x = self.conv1(x)\n",
    "        x = self.resnet_stack(x)\n",
    "        x = self.relu(x) # not there in original paper\n",
    "        x = self.conv2(x)\n",
    "        return x\n",
    "    \n",
    "class STResnetNoExt(nn.Module):\n",
    "    def __init__(self, c_channel, p_channel, t_channel, n_residual_units, map_dim, use_bn = False):\n",
    "        super().__init__()\n",
    "        self.c_pipe = ResidualPipeline(c_channel, n_residual_units, use_bn)\n",
    "        self.p_pipe = ResidualPipeline(p_channel, n_residual_units, use_bn)\n",
    "        self.t_pipe = ResidualPipeline(t_channel, n_residual_units, use_bn)\n",
    "        # 1 dimension for batch processing, this class cannot process unbatched data\n",
    "        self.w_c = nn.Parameter(torch.randn(1, *map_dim))\n",
    "        self.w_p = nn.Parameter(torch.randn(1, *map_dim))\n",
    "        self.w_t = nn.Parameter(torch.randn(1, *map_dim))\n",
    "        self.tanh = nn.Tanh()\n",
    "        \n",
    "    def forward(self, x_c, x_p, x_t):\n",
    "        y_c = self.c_pipe(x_c)\n",
    "        y_p = self.p_pipe(x_p)\n",
    "        y_t = self.t_pipe(x_t)\n",
    "        # Fusion: Eliment wise product (Hadamard Product)\n",
    "        y = self.w_c*y_c + self.w_p*y_p + self.w_t*y_t\n",
    "        y = self.tanh(y)\n",
    "        return y"
   ]
  },
  {
   "cell_type": "code",
   "execution_count": 3,
   "id": "76a510d0-013c-4aff-ab42-b2f3320c5823",
   "metadata": {},
   "outputs": [
    {
     "name": "stdout",
     "output_type": "stream",
     "text": [
      "min: 0.0 max: 737.0\n",
      "torch.Size([3379, 8, 21, 12]) torch.Size([3379, 2, 21, 12]) torch.Size([3379, 2, 21, 12])\n",
      "min: 0.0 max: 737.0\n",
      "torch.Size([845, 8, 21, 12]) torch.Size([845, 2, 21, 12]) torch.Size([845, 2, 21, 12])\n"
     ]
    }
   ],
   "source": [
    "from torch.utils.data import DataLoader, SubsetRandomSampler, random_split\n",
    "from BikeNYC import BikeNYCDataset\n",
    "n_closeness = 4\n",
    "n_period = 1\n",
    "n_trend = 1\n",
    "flow_ch = 2 # Inflow and Outflow\n",
    "n_residual_units = 4\n",
    "map_dim = (flow_ch, 21,12) # Specific to dataset\n",
    "bikenyc_dataset_train = BikeNYCDataset('./Datasets/BikeNYC/flow_data.npy',n_closeness,n_period,n_trend,0.8,True)\n",
    "bikenyc_dataset_test = BikeNYCDataset('./Datasets/BikeNYC/flow_data.npy',n_closeness,n_period,n_trend,0.8,False)"
   ]
  },
  {
   "cell_type": "code",
   "execution_count": 4,
   "id": "374b469c-ed4f-4772-b5fe-83bbcf460614",
   "metadata": {},
   "outputs": [],
   "source": [
    "from tqdm import tqdm\n",
    "mmn = bikenyc_dataset_train.mmn\n",
    "\n",
    "def train_epoch(model,dataloader,loss_fn,optimizer):\n",
    "    train_loss = 0.0\n",
    "    model.train()\n",
    "    n_batches = 0\n",
    "    for x_c, x_p, x_t, y in tqdm(dataloader):\n",
    "        optimizer.zero_grad()\n",
    "        output = model(x_c, x_p, x_t)\n",
    "        loss = loss_fn(output, y)\n",
    "        loss.backward()\n",
    "        optimizer.step()\n",
    "        train_loss += loss.item()\n",
    "        n_batches += 1\n",
    "    return train_loss/n_batches\n",
    "  \n",
    "def valid_epoch(model,dataloader,loss_fn):\n",
    "    valid_loss = 0.0\n",
    "    model.eval()\n",
    "    n_batches = 0\n",
    "    for x_c, x_p, x_t, y in dataloader:\n",
    "        output = model(x_c, x_p, x_t)\n",
    "        loss = loss_fn(output, y)\n",
    "        valid_loss += loss.item()\n",
    "        n_batches += 1\n",
    "    return valid_loss/n_batches"
   ]
  },
  {
   "cell_type": "code",
   "execution_count": 5,
   "id": "227cc1ae-8f39-42a4-8f1b-a4ad2bd88d39",
   "metadata": {},
   "outputs": [
    {
     "name": "stdout",
     "output_type": "stream",
     "text": [
      "Fold 1\n"
     ]
    },
    {
     "name": "stderr",
     "output_type": "stream",
     "text": [
      "100%|██████████████████████████████████████████████████████████████████████████████████| 96/96 [00:24<00:00,  3.85it/s]\n"
     ]
    },
    {
     "name": "stdout",
     "output_type": "stream",
     "text": [
      "Epoch:1/10 | Training Loss: 0.09999791551187324 | Validation Loss: 0.003581373423168605\n",
      "Saving a better model!\n"
     ]
    },
    {
     "name": "stderr",
     "output_type": "stream",
     "text": [
      "100%|██████████████████████████████████████████████████████████████████████████████████| 96/96 [00:09<00:00, 10.39it/s]\n"
     ]
    },
    {
     "name": "stdout",
     "output_type": "stream",
     "text": [
      "Epoch:2/10 | Training Loss: 0.0020208685782563407 | Validation Loss: 0.0016137610337781634\n",
      "Saving a better model!\n"
     ]
    },
    {
     "name": "stderr",
     "output_type": "stream",
     "text": [
      "100%|██████████████████████████████████████████████████████████████████████████████████| 96/96 [00:09<00:00, 10.62it/s]\n"
     ]
    },
    {
     "name": "stdout",
     "output_type": "stream",
     "text": [
      "Epoch:3/10 | Training Loss: 0.0014075195073625462 | Validation Loss: 0.0012917432785880837\n",
      "Saving a better model!\n"
     ]
    },
    {
     "name": "stderr",
     "output_type": "stream",
     "text": [
      "100%|██████████████████████████████████████████████████████████████████████████████████| 96/96 [00:08<00:00, 10.68it/s]\n"
     ]
    },
    {
     "name": "stdout",
     "output_type": "stream",
     "text": [
      "Epoch:4/10 | Training Loss: 0.0010756382277274195 | Validation Loss: 0.0011371001865799453\n",
      "Saving a better model!\n"
     ]
    },
    {
     "name": "stderr",
     "output_type": "stream",
     "text": [
      "100%|██████████████████████████████████████████████████████████████████████████████████| 96/96 [00:08<00:00, 10.67it/s]\n"
     ]
    },
    {
     "name": "stdout",
     "output_type": "stream",
     "text": [
      "Epoch:5/10 | Training Loss: 0.0009779311336994094 | Validation Loss: 0.0009985060314647853\n",
      "Saving a better model!\n"
     ]
    },
    {
     "name": "stderr",
     "output_type": "stream",
     "text": [
      "100%|██████████████████████████████████████████████████████████████████████████████████| 96/96 [00:08<00:00, 10.68it/s]\n"
     ]
    },
    {
     "name": "stdout",
     "output_type": "stream",
     "text": [
      "Epoch:6/10 | Training Loss: 0.0009326807460941685 | Validation Loss: 0.001333676437339322\n"
     ]
    },
    {
     "name": "stderr",
     "output_type": "stream",
     "text": [
      "100%|██████████████████████████████████████████████████████████████████████████████████| 96/96 [00:09<00:00, 10.57it/s]\n"
     ]
    },
    {
     "name": "stdout",
     "output_type": "stream",
     "text": [
      "Epoch:7/10 | Training Loss: 0.00074516495927431 | Validation Loss: 0.0007303382259454917\n",
      "Saving a better model!\n"
     ]
    },
    {
     "name": "stderr",
     "output_type": "stream",
     "text": [
      "100%|██████████████████████████████████████████████████████████████████████████████████| 96/96 [00:09<00:00, 10.65it/s]\n"
     ]
    },
    {
     "name": "stdout",
     "output_type": "stream",
     "text": [
      "Epoch:8/10 | Training Loss: 0.0006524330395526098 | Validation Loss: 0.0011709114451977339\n"
     ]
    },
    {
     "name": "stderr",
     "output_type": "stream",
     "text": [
      "100%|██████████████████████████████████████████████████████████████████████████████████| 96/96 [00:08<00:00, 10.70it/s]\n"
     ]
    },
    {
     "name": "stdout",
     "output_type": "stream",
     "text": [
      "Epoch:9/10 | Training Loss: 0.0008758890702059338 | Validation Loss: 0.000923456031490456\n"
     ]
    },
    {
     "name": "stderr",
     "output_type": "stream",
     "text": [
      "100%|██████████████████████████████████████████████████████████████████████████████████| 96/96 [00:09<00:00, 10.58it/s]\n"
     ]
    },
    {
     "name": "stdout",
     "output_type": "stream",
     "text": [
      "Epoch:10/10 | Training Loss: 0.000609625746619713 | Validation Loss: 0.0007122673665766011\n",
      "Saving a better model!\n",
      "Fold 2\n"
     ]
    },
    {
     "name": "stderr",
     "output_type": "stream",
     "text": [
      "100%|██████████████████████████████████████████████████████████████████████████████████| 96/96 [00:09<00:00, 10.62it/s]\n"
     ]
    },
    {
     "name": "stdout",
     "output_type": "stream",
     "text": [
      "Epoch:1/10 | Training Loss: 0.10370609734673053 | Validation Loss: 0.010790177874944427\n"
     ]
    },
    {
     "name": "stderr",
     "output_type": "stream",
     "text": [
      "100%|██████████████████████████████████████████████████████████████████████████████████| 96/96 [00:09<00:00, 10.62it/s]\n"
     ]
    },
    {
     "name": "stdout",
     "output_type": "stream",
     "text": [
      "Epoch:2/10 | Training Loss: 0.009881168506884327 | Validation Loss: 0.009579318067566915\n"
     ]
    },
    {
     "name": "stderr",
     "output_type": "stream",
     "text": [
      "100%|██████████████████████████████████████████████████████████████████████████████████| 96/96 [00:08<00:00, 10.69it/s]\n"
     ]
    },
    {
     "name": "stdout",
     "output_type": "stream",
     "text": [
      "Epoch:3/10 | Training Loss: 0.00923142755830971 | Validation Loss: 0.009692688303237612\n"
     ]
    },
    {
     "name": "stderr",
     "output_type": "stream",
     "text": [
      "100%|██████████████████████████████████████████████████████████████████████████████████| 96/96 [00:09<00:00, 10.61it/s]\n"
     ]
    },
    {
     "name": "stdout",
     "output_type": "stream",
     "text": [
      "Epoch:4/10 | Training Loss: 0.009201966332814967 | Validation Loss: 0.010184499858455225\n"
     ]
    },
    {
     "name": "stderr",
     "output_type": "stream",
     "text": [
      "100%|██████████████████████████████████████████████████████████████████████████████████| 96/96 [00:09<00:00, 10.54it/s]\n"
     ]
    },
    {
     "name": "stdout",
     "output_type": "stream",
     "text": [
      "Epoch:5/10 | Training Loss: 0.009169606879974404 | Validation Loss: 0.009008898061107506\n"
     ]
    },
    {
     "name": "stderr",
     "output_type": "stream",
     "text": [
      "100%|██████████████████████████████████████████████████████████████████████████████████| 96/96 [00:09<00:00, 10.62it/s]\n"
     ]
    },
    {
     "name": "stdout",
     "output_type": "stream",
     "text": [
      "Epoch:6/10 | Training Loss: 0.00876011968163463 | Validation Loss: 0.009161923250014132\n"
     ]
    },
    {
     "name": "stderr",
     "output_type": "stream",
     "text": [
      "100%|██████████████████████████████████████████████████████████████████████████████████| 96/96 [00:09<00:00, 10.04it/s]\n"
     ]
    },
    {
     "name": "stdout",
     "output_type": "stream",
     "text": [
      "Epoch:7/10 | Training Loss: 0.00864863755608288 | Validation Loss: 0.008772360753606667\n"
     ]
    },
    {
     "name": "stderr",
     "output_type": "stream",
     "text": [
      "100%|██████████████████████████████████████████████████████████████████████████████████| 96/96 [00:09<00:00, 10.17it/s]\n"
     ]
    },
    {
     "name": "stdout",
     "output_type": "stream",
     "text": [
      "Epoch:8/10 | Training Loss: 0.008573920204071328 | Validation Loss: 0.008618033152412285\n"
     ]
    },
    {
     "name": "stderr",
     "output_type": "stream",
     "text": [
      "100%|██████████████████████████████████████████████████████████████████████████████████| 96/96 [00:09<00:00, 10.58it/s]\n"
     ]
    },
    {
     "name": "stdout",
     "output_type": "stream",
     "text": [
      "Epoch:9/10 | Training Loss: 0.00852839982447525 | Validation Loss: 0.00865578880025582\n"
     ]
    },
    {
     "name": "stderr",
     "output_type": "stream",
     "text": [
      "100%|██████████████████████████████████████████████████████████████████████████████████| 96/96 [00:09<00:00, 10.65it/s]\n"
     ]
    },
    {
     "name": "stdout",
     "output_type": "stream",
     "text": [
      "Epoch:10/10 | Training Loss: 0.008513162106586 | Validation Loss: 0.009375794875350866\n",
      "Fold 3\n"
     ]
    },
    {
     "name": "stderr",
     "output_type": "stream",
     "text": [
      "100%|██████████████████████████████████████████████████████████████████████████████████| 96/96 [00:09<00:00, 10.66it/s]\n"
     ]
    },
    {
     "name": "stdout",
     "output_type": "stream",
     "text": [
      "Epoch:1/10 | Training Loss: 0.0955477680927288 | Validation Loss: 0.0031694154551422053\n"
     ]
    },
    {
     "name": "stderr",
     "output_type": "stream",
     "text": [
      "100%|██████████████████████████████████████████████████████████████████████████████████| 96/96 [00:09<00:00, 10.56it/s]\n"
     ]
    },
    {
     "name": "stdout",
     "output_type": "stream",
     "text": [
      "Epoch:2/10 | Training Loss: 0.0018296180363298238 | Validation Loss: 0.0036049388264390555\n"
     ]
    },
    {
     "name": "stderr",
     "output_type": "stream",
     "text": [
      "100%|██████████████████████████████████████████████████████████████████████████████████| 96/96 [00:09<00:00, 10.50it/s]\n"
     ]
    },
    {
     "name": "stdout",
     "output_type": "stream",
     "text": [
      "Epoch:3/10 | Training Loss: 0.001489386432391863 | Validation Loss: 0.001108763009225103\n"
     ]
    },
    {
     "name": "stderr",
     "output_type": "stream",
     "text": [
      "100%|██████████████████████████████████████████████████████████████████████████████████| 96/96 [00:09<00:00, 10.54it/s]\n"
     ]
    },
    {
     "name": "stdout",
     "output_type": "stream",
     "text": [
      "Epoch:4/10 | Training Loss: 0.0009144889215046229 | Validation Loss: 0.0011524794655005362\n"
     ]
    },
    {
     "name": "stderr",
     "output_type": "stream",
     "text": [
      "100%|██████████████████████████████████████████████████████████████████████████████████| 96/96 [00:09<00:00, 10.39it/s]\n"
     ]
    },
    {
     "name": "stdout",
     "output_type": "stream",
     "text": [
      "Epoch:5/10 | Training Loss: 0.0008866663435280012 | Validation Loss: 0.0008472956939261745\n"
     ]
    },
    {
     "name": "stderr",
     "output_type": "stream",
     "text": [
      "100%|██████████████████████████████████████████████████████████████████████████████████| 96/96 [00:09<00:00, 10.66it/s]\n"
     ]
    },
    {
     "name": "stdout",
     "output_type": "stream",
     "text": [
      "Epoch:6/10 | Training Loss: 0.0006855120157827818 | Validation Loss: 0.0009194086570377377\n"
     ]
    },
    {
     "name": "stderr",
     "output_type": "stream",
     "text": [
      "100%|██████████████████████████████████████████████████████████████████████████████████| 96/96 [00:09<00:00, 10.20it/s]\n"
     ]
    },
    {
     "name": "stdout",
     "output_type": "stream",
     "text": [
      "Epoch:7/10 | Training Loss: 0.0007464173531843699 | Validation Loss: 0.0012213418217883868\n"
     ]
    },
    {
     "name": "stderr",
     "output_type": "stream",
     "text": [
      "100%|██████████████████████████████████████████████████████████████████████████████████| 96/96 [00:09<00:00, 10.47it/s]\n"
     ]
    },
    {
     "name": "stdout",
     "output_type": "stream",
     "text": [
      "Epoch:8/10 | Training Loss: 0.0007902602383182966 | Validation Loss: 0.0008158126676624471\n"
     ]
    },
    {
     "name": "stderr",
     "output_type": "stream",
     "text": [
      "100%|██████████████████████████████████████████████████████████████████████████████████| 96/96 [00:09<00:00, 10.57it/s]\n"
     ]
    },
    {
     "name": "stdout",
     "output_type": "stream",
     "text": [
      "Epoch:9/10 | Training Loss: 0.0006369429117209316 | Validation Loss: 0.000968370475509966\n"
     ]
    },
    {
     "name": "stderr",
     "output_type": "stream",
     "text": [
      "100%|██████████████████████████████████████████████████████████████████████████████████| 96/96 [00:09<00:00, 10.56it/s]\n"
     ]
    },
    {
     "name": "stdout",
     "output_type": "stream",
     "text": [
      "Epoch:10/10 | Training Loss: 0.0006512406580441166 | Validation Loss: 0.0007126934916331348\n",
      "Fold 4\n"
     ]
    },
    {
     "name": "stderr",
     "output_type": "stream",
     "text": [
      "100%|██████████████████████████████████████████████████████████████████████████████████| 96/96 [00:08<00:00, 10.70it/s]\n"
     ]
    },
    {
     "name": "stdout",
     "output_type": "stream",
     "text": [
      "Epoch:1/10 | Training Loss: 0.08114355073909489 | Validation Loss: 0.0032347678418525243\n"
     ]
    },
    {
     "name": "stderr",
     "output_type": "stream",
     "text": [
      "100%|██████████████████████████████████████████████████████████████████████████████████| 96/96 [00:09<00:00, 10.62it/s]\n"
     ]
    },
    {
     "name": "stdout",
     "output_type": "stream",
     "text": [
      "Epoch:2/10 | Training Loss: 0.0020210300256925016 | Validation Loss: 0.023590966720472683\n"
     ]
    },
    {
     "name": "stderr",
     "output_type": "stream",
     "text": [
      "100%|██████████████████████████████████████████████████████████████████████████████████| 96/96 [00:09<00:00, 10.63it/s]\n"
     ]
    },
    {
     "name": "stdout",
     "output_type": "stream",
     "text": [
      "Epoch:3/10 | Training Loss: 0.002743817393517626 | Validation Loss: 0.0012505882028066976\n"
     ]
    },
    {
     "name": "stderr",
     "output_type": "stream",
     "text": [
      "100%|██████████████████████████████████████████████████████████████████████████████████| 96/96 [00:08<00:00, 10.70it/s]\n"
     ]
    },
    {
     "name": "stdout",
     "output_type": "stream",
     "text": [
      "Epoch:4/10 | Training Loss: 0.0010428511195641477 | Validation Loss: 0.0009702832850796932\n"
     ]
    },
    {
     "name": "stderr",
     "output_type": "stream",
     "text": [
      "100%|██████████████████████████████████████████████████████████████████████████████████| 96/96 [00:08<00:00, 10.67it/s]\n"
     ]
    },
    {
     "name": "stdout",
     "output_type": "stream",
     "text": [
      "Epoch:5/10 | Training Loss: 0.0008332956087239533 | Validation Loss: 0.0007878718368539756\n"
     ]
    },
    {
     "name": "stderr",
     "output_type": "stream",
     "text": [
      "100%|██████████████████████████████████████████████████████████████████████████████████| 96/96 [00:09<00:00, 10.56it/s]\n"
     ]
    },
    {
     "name": "stdout",
     "output_type": "stream",
     "text": [
      "Epoch:6/10 | Training Loss: 0.0007028748185196795 | Validation Loss: 0.0007146512348712845\n"
     ]
    },
    {
     "name": "stderr",
     "output_type": "stream",
     "text": [
      "100%|██████████████████████████████████████████████████████████████████████████████████| 96/96 [00:09<00:00, 10.57it/s]\n"
     ]
    },
    {
     "name": "stdout",
     "output_type": "stream",
     "text": [
      "Epoch:7/10 | Training Loss: 0.0006539858544177454 | Validation Loss: 0.0008205643601038239\n"
     ]
    },
    {
     "name": "stderr",
     "output_type": "stream",
     "text": [
      "100%|██████████████████████████████████████████████████████████████████████████████████| 96/96 [00:08<00:00, 10.75it/s]\n"
     ]
    },
    {
     "name": "stdout",
     "output_type": "stream",
     "text": [
      "Epoch:8/10 | Training Loss: 0.000625260999489304 | Validation Loss: 0.0008128250748003749\n"
     ]
    },
    {
     "name": "stderr",
     "output_type": "stream",
     "text": [
      "100%|██████████████████████████████████████████████████████████████████████████████████| 96/96 [00:09<00:00, 10.58it/s]\n"
     ]
    },
    {
     "name": "stdout",
     "output_type": "stream",
     "text": [
      "Epoch:9/10 | Training Loss: 0.0005699434220029312 | Validation Loss: 0.0005810810385314239\n",
      "Saving a better model!\n"
     ]
    },
    {
     "name": "stderr",
     "output_type": "stream",
     "text": [
      "100%|██████████████████████████████████████████████████████████████████████████████████| 96/96 [00:08<00:00, 10.67it/s]\n"
     ]
    },
    {
     "name": "stdout",
     "output_type": "stream",
     "text": [
      "Epoch:10/10 | Training Loss: 0.0005252850861931316 | Validation Loss: 0.0006894937621175566\n",
      "Fold 5\n"
     ]
    },
    {
     "name": "stderr",
     "output_type": "stream",
     "text": [
      "100%|██████████████████████████████████████████████████████████████████████████████████| 96/96 [00:09<00:00, 10.64it/s]\n"
     ]
    },
    {
     "name": "stdout",
     "output_type": "stream",
     "text": [
      "Epoch:1/10 | Training Loss: 0.09308221013573832 | Validation Loss: 0.003274596465582197\n"
     ]
    },
    {
     "name": "stderr",
     "output_type": "stream",
     "text": [
      "100%|██████████████████████████████████████████████████████████████████████████████████| 96/96 [00:08<00:00, 10.71it/s]\n"
     ]
    },
    {
     "name": "stdout",
     "output_type": "stream",
     "text": [
      "Epoch:2/10 | Training Loss: 0.0018601519441290293 | Validation Loss: 0.0018948416797105563\n"
     ]
    },
    {
     "name": "stderr",
     "output_type": "stream",
     "text": [
      "100%|██████████████████████████████████████████████████████████████████████████████████| 96/96 [00:09<00:00, 10.66it/s]\n"
     ]
    },
    {
     "name": "stdout",
     "output_type": "stream",
     "text": [
      "Epoch:3/10 | Training Loss: 0.0013667412646706605 | Validation Loss: 0.001232790109828453\n"
     ]
    },
    {
     "name": "stderr",
     "output_type": "stream",
     "text": [
      "100%|██████████████████████████████████████████████████████████████████████████████████| 96/96 [00:09<00:00, 10.58it/s]\n"
     ]
    },
    {
     "name": "stdout",
     "output_type": "stream",
     "text": [
      "Epoch:4/10 | Training Loss: 0.0010099856911741274 | Validation Loss: 0.0008495644010095434\n"
     ]
    },
    {
     "name": "stderr",
     "output_type": "stream",
     "text": [
      "100%|██████████████████████████████████████████████████████████████████████████████████| 96/96 [00:08<00:00, 10.68it/s]\n"
     ]
    },
    {
     "name": "stdout",
     "output_type": "stream",
     "text": [
      "Epoch:5/10 | Training Loss: 0.0008508540880332779 | Validation Loss: 0.0010402631914158437\n"
     ]
    },
    {
     "name": "stderr",
     "output_type": "stream",
     "text": [
      "100%|██████████████████████████████████████████████████████████████████████████████████| 96/96 [00:09<00:00, 10.64it/s]\n"
     ]
    },
    {
     "name": "stdout",
     "output_type": "stream",
     "text": [
      "Epoch:6/10 | Training Loss: 0.0007569513148458403 | Validation Loss: 0.0007881892696869644\n"
     ]
    },
    {
     "name": "stderr",
     "output_type": "stream",
     "text": [
      "100%|██████████████████████████████████████████████████████████████████████████████████| 96/96 [00:09<00:00, 10.64it/s]\n"
     ]
    },
    {
     "name": "stdout",
     "output_type": "stream",
     "text": [
      "Epoch:7/10 | Training Loss: 0.0006578706321912856 | Validation Loss: 0.0008829849380576475\n"
     ]
    },
    {
     "name": "stderr",
     "output_type": "stream",
     "text": [
      "100%|██████████████████████████████████████████████████████████████████████████████████| 96/96 [00:08<00:00, 10.68it/s]\n"
     ]
    },
    {
     "name": "stdout",
     "output_type": "stream",
     "text": [
      "Epoch:8/10 | Training Loss: 0.0005810283813237523 | Validation Loss: 0.0008737326081080192\n"
     ]
    },
    {
     "name": "stderr",
     "output_type": "stream",
     "text": [
      "100%|██████████████████████████████████████████████████████████████████████████████████| 96/96 [00:08<00:00, 10.68it/s]\n"
     ]
    },
    {
     "name": "stdout",
     "output_type": "stream",
     "text": [
      "Epoch:9/10 | Training Loss: 0.0006476665012087324 | Validation Loss: 0.0005826217291707343\n"
     ]
    },
    {
     "name": "stderr",
     "output_type": "stream",
     "text": [
      "100%|██████████████████████████████████████████████████████████████████████████████████| 96/96 [00:09<00:00, 10.63it/s]\n"
     ]
    },
    {
     "name": "stdout",
     "output_type": "stream",
     "text": [
      "Epoch:10/10 | Training Loss: 0.0005115549711263156 | Validation Loss: 0.0008507309301586991\n",
      "Fold 6\n"
     ]
    },
    {
     "name": "stderr",
     "output_type": "stream",
     "text": [
      "100%|██████████████████████████████████████████████████████████████████████████████████| 96/96 [00:09<00:00, 10.64it/s]\n"
     ]
    },
    {
     "name": "stdout",
     "output_type": "stream",
     "text": [
      "Epoch:1/10 | Training Loss: 0.09462034796645942 | Validation Loss: 0.002971757330339063\n"
     ]
    },
    {
     "name": "stderr",
     "output_type": "stream",
     "text": [
      "100%|██████████████████████████████████████████████████████████████████████████████████| 96/96 [00:08<00:00, 10.74it/s]\n"
     ]
    },
    {
     "name": "stdout",
     "output_type": "stream",
     "text": [
      "Epoch:2/10 | Training Loss: 0.0018257103686967942 | Validation Loss: 0.0016520456410944462\n"
     ]
    },
    {
     "name": "stderr",
     "output_type": "stream",
     "text": [
      "100%|██████████████████████████████████████████████████████████████████████████████████| 96/96 [00:08<00:00, 10.76it/s]\n"
     ]
    },
    {
     "name": "stdout",
     "output_type": "stream",
     "text": [
      "Epoch:3/10 | Training Loss: 0.0011725867649753734 | Validation Loss: 0.0011441357095133174\n"
     ]
    },
    {
     "name": "stderr",
     "output_type": "stream",
     "text": [
      "100%|██████████████████████████████████████████████████████████████████████████████████| 96/96 [00:08<00:00, 10.73it/s]\n"
     ]
    },
    {
     "name": "stdout",
     "output_type": "stream",
     "text": [
      "Epoch:4/10 | Training Loss: 0.0009546606009583533 | Validation Loss: 0.0011517832754179835\n"
     ]
    },
    {
     "name": "stderr",
     "output_type": "stream",
     "text": [
      "100%|██████████████████████████████████████████████████████████████████████████████████| 96/96 [00:08<00:00, 10.85it/s]\n"
     ]
    },
    {
     "name": "stdout",
     "output_type": "stream",
     "text": [
      "Epoch:5/10 | Training Loss: 0.0008705529295790863 | Validation Loss: 0.0008710518225350163\n"
     ]
    },
    {
     "name": "stderr",
     "output_type": "stream",
     "text": [
      "100%|██████████████████████████████████████████████████████████████████████████████████| 96/96 [00:08<00:00, 10.73it/s]\n"
     ]
    },
    {
     "name": "stdout",
     "output_type": "stream",
     "text": [
      "Epoch:6/10 | Training Loss: 0.0007041451014326109 | Validation Loss: 0.0007820098174058578\n"
     ]
    },
    {
     "name": "stderr",
     "output_type": "stream",
     "text": [
      "100%|██████████████████████████████████████████████████████████████████████████████████| 96/96 [00:08<00:00, 10.80it/s]\n"
     ]
    },
    {
     "name": "stdout",
     "output_type": "stream",
     "text": [
      "Epoch:7/10 | Training Loss: 0.0006334149787411055 | Validation Loss: 0.0013646350231614303\n"
     ]
    },
    {
     "name": "stderr",
     "output_type": "stream",
     "text": [
      "100%|██████████████████████████████████████████████████████████████████████████████████| 96/96 [00:08<00:00, 10.76it/s]\n"
     ]
    },
    {
     "name": "stdout",
     "output_type": "stream",
     "text": [
      "Epoch:8/10 | Training Loss: 0.0005696944161475889 | Validation Loss: 0.0006306573182386769\n"
     ]
    },
    {
     "name": "stderr",
     "output_type": "stream",
     "text": [
      "100%|██████████████████████████████████████████████████████████████████████████████████| 96/96 [00:08<00:00, 10.71it/s]\n"
     ]
    },
    {
     "name": "stdout",
     "output_type": "stream",
     "text": [
      "Epoch:9/10 | Training Loss: 0.0005022878246260613 | Validation Loss: 0.0007587720650586892\n"
     ]
    },
    {
     "name": "stderr",
     "output_type": "stream",
     "text": [
      "100%|██████████████████████████████████████████████████████████████████████████████████| 96/96 [00:09<00:00, 10.65it/s]\n"
     ]
    },
    {
     "name": "stdout",
     "output_type": "stream",
     "text": [
      "Epoch:10/10 | Training Loss: 0.000496753985620065 | Validation Loss: 0.025505559010939163\n",
      "Fold 7\n"
     ]
    },
    {
     "name": "stderr",
     "output_type": "stream",
     "text": [
      "100%|██████████████████████████████████████████████████████████████████████████████████| 96/96 [00:08<00:00, 10.74it/s]\n"
     ]
    },
    {
     "name": "stdout",
     "output_type": "stream",
     "text": [
      "Epoch:1/10 | Training Loss: 0.08945878116477009 | Validation Loss: 0.0028955897908996453\n"
     ]
    },
    {
     "name": "stderr",
     "output_type": "stream",
     "text": [
      "100%|██████████████████████████████████████████████████████████████████████████████████| 96/96 [00:08<00:00, 10.79it/s]\n"
     ]
    },
    {
     "name": "stdout",
     "output_type": "stream",
     "text": [
      "Epoch:2/10 | Training Loss: 0.0019081239515799098 | Validation Loss: 0.0017259960507296703\n"
     ]
    },
    {
     "name": "stderr",
     "output_type": "stream",
     "text": [
      "100%|██████████████████████████████████████████████████████████████████████████████████| 96/96 [00:08<00:00, 10.70it/s]\n"
     ]
    },
    {
     "name": "stdout",
     "output_type": "stream",
     "text": [
      "Epoch:3/10 | Training Loss: 0.0013116586105752503 | Validation Loss: 0.0017833483236079867\n"
     ]
    },
    {
     "name": "stderr",
     "output_type": "stream",
     "text": [
      "100%|██████████████████████████████████████████████████████████████████████████████████| 96/96 [00:08<00:00, 10.73it/s]\n"
     ]
    },
    {
     "name": "stdout",
     "output_type": "stream",
     "text": [
      "Epoch:4/10 | Training Loss: 0.0013421947545187625 | Validation Loss: 0.0012772177049720829\n"
     ]
    },
    {
     "name": "stderr",
     "output_type": "stream",
     "text": [
      "100%|██████████████████████████████████████████████████████████████████████████████████| 96/96 [00:08<00:00, 10.76it/s]\n"
     ]
    },
    {
     "name": "stdout",
     "output_type": "stream",
     "text": [
      "Epoch:5/10 | Training Loss: 0.0010562128366776353 | Validation Loss: 0.0024819197768176145\n"
     ]
    },
    {
     "name": "stderr",
     "output_type": "stream",
     "text": [
      "100%|██████████████████████████████████████████████████████████████████████████████████| 96/96 [00:08<00:00, 10.78it/s]\n"
     ]
    },
    {
     "name": "stdout",
     "output_type": "stream",
     "text": [
      "Epoch:6/10 | Training Loss: 0.0012997039436110451 | Validation Loss: 0.001014399696776474\n"
     ]
    },
    {
     "name": "stderr",
     "output_type": "stream",
     "text": [
      "100%|██████████████████████████████████████████████████████████████████████████████████| 96/96 [00:08<00:00, 10.74it/s]\n"
     ]
    },
    {
     "name": "stdout",
     "output_type": "stream",
     "text": [
      "Epoch:7/10 | Training Loss: 0.0006841595719985586 | Validation Loss: 0.0008983393993482671\n"
     ]
    },
    {
     "name": "stderr",
     "output_type": "stream",
     "text": [
      "100%|██████████████████████████████████████████████████████████████████████████████████| 96/96 [00:08<00:00, 10.80it/s]\n"
     ]
    },
    {
     "name": "stdout",
     "output_type": "stream",
     "text": [
      "Epoch:8/10 | Training Loss: 0.0005798101980568996 | Validation Loss: 0.0006400874117389321\n"
     ]
    },
    {
     "name": "stderr",
     "output_type": "stream",
     "text": [
      "100%|██████████████████████████████████████████████████████████████████████████████████| 96/96 [00:08<00:00, 10.76it/s]\n"
     ]
    },
    {
     "name": "stdout",
     "output_type": "stream",
     "text": [
      "Epoch:9/10 | Training Loss: 0.0005412182584526212 | Validation Loss: 0.0006233778946228664\n"
     ]
    },
    {
     "name": "stderr",
     "output_type": "stream",
     "text": [
      "100%|██████████████████████████████████████████████████████████████████████████████████| 96/96 [00:08<00:00, 10.77it/s]\n"
     ]
    },
    {
     "name": "stdout",
     "output_type": "stream",
     "text": [
      "Epoch:10/10 | Training Loss: 0.0004702372872695075 | Validation Loss: 0.0006183008769188415\n",
      "Fold 8\n"
     ]
    },
    {
     "name": "stderr",
     "output_type": "stream",
     "text": [
      "100%|██████████████████████████████████████████████████████████████████████████████████| 96/96 [00:09<00:00, 10.64it/s]\n"
     ]
    },
    {
     "name": "stdout",
     "output_type": "stream",
     "text": [
      "Epoch:1/10 | Training Loss: 0.09828077026759274 | Validation Loss: 0.01626432720910419\n"
     ]
    },
    {
     "name": "stderr",
     "output_type": "stream",
     "text": [
      "100%|██████████████████████████████████████████████████████████████████████████████████| 96/96 [00:08<00:00, 10.71it/s]\n"
     ]
    },
    {
     "name": "stdout",
     "output_type": "stream",
     "text": [
      "Epoch:2/10 | Training Loss: 0.010524105367949232 | Validation Loss: 0.009952633556994524\n"
     ]
    },
    {
     "name": "stderr",
     "output_type": "stream",
     "text": [
      "100%|██████████████████████████████████████████████████████████████████████████████████| 96/96 [00:08<00:00, 10.78it/s]\n"
     ]
    },
    {
     "name": "stdout",
     "output_type": "stream",
     "text": [
      "Epoch:3/10 | Training Loss: 0.0022042987920940504 | Validation Loss: 0.0012901956744661386\n"
     ]
    },
    {
     "name": "stderr",
     "output_type": "stream",
     "text": [
      "100%|██████████████████████████████████████████████████████████████████████████████████| 96/96 [00:08<00:00, 10.74it/s]\n"
     ]
    },
    {
     "name": "stdout",
     "output_type": "stream",
     "text": [
      "Epoch:4/10 | Training Loss: 0.0011198120197756605 | Validation Loss: 0.0010069438616152513\n"
     ]
    },
    {
     "name": "stderr",
     "output_type": "stream",
     "text": [
      "100%|██████████████████████████████████████████████████████████████████████████████████| 96/96 [00:08<00:00, 10.77it/s]\n"
     ]
    },
    {
     "name": "stdout",
     "output_type": "stream",
     "text": [
      "Epoch:5/10 | Training Loss: 0.0009239322043868015 | Validation Loss: 0.0009058062727986412\n"
     ]
    },
    {
     "name": "stderr",
     "output_type": "stream",
     "text": [
      "100%|██████████████████████████████████████████████████████████████████████████████████| 96/96 [00:08<00:00, 10.72it/s]\n"
     ]
    },
    {
     "name": "stdout",
     "output_type": "stream",
     "text": [
      "Epoch:6/10 | Training Loss: 0.0008350021116712014 | Validation Loss: 0.0007593653387051414\n"
     ]
    },
    {
     "name": "stderr",
     "output_type": "stream",
     "text": [
      "100%|██████████████████████████████████████████████████████████████████████████████████| 96/96 [00:08<00:00, 10.74it/s]\n"
     ]
    },
    {
     "name": "stdout",
     "output_type": "stream",
     "text": [
      "Epoch:7/10 | Training Loss: 0.000771284690927132 | Validation Loss: 0.0009075964229520072\n"
     ]
    },
    {
     "name": "stderr",
     "output_type": "stream",
     "text": [
      "100%|██████████████████████████████████████████████████████████████████████████████████| 96/96 [00:08<00:00, 10.76it/s]\n"
     ]
    },
    {
     "name": "stdout",
     "output_type": "stream",
     "text": [
      "Epoch:8/10 | Training Loss: 0.0007313761804349875 | Validation Loss: 0.0007470012113282627\n"
     ]
    },
    {
     "name": "stderr",
     "output_type": "stream",
     "text": [
      "100%|██████████████████████████████████████████████████████████████████████████████████| 96/96 [00:08<00:00, 10.77it/s]\n"
     ]
    },
    {
     "name": "stdout",
     "output_type": "stream",
     "text": [
      "Epoch:9/10 | Training Loss: 0.0005657353467540815 | Validation Loss: 0.0005680085583166642\n",
      "Saving a better model!\n"
     ]
    },
    {
     "name": "stderr",
     "output_type": "stream",
     "text": [
      "100%|██████████████████████████████████████████████████████████████████████████████████| 96/96 [00:08<00:00, 10.71it/s]\n"
     ]
    },
    {
     "name": "stdout",
     "output_type": "stream",
     "text": [
      "Epoch:10/10 | Training Loss: 0.0005542932121898048 | Validation Loss: 0.0005024644355712967\n",
      "Saving a better model!\n",
      "Fold 9\n"
     ]
    },
    {
     "name": "stderr",
     "output_type": "stream",
     "text": [
      "100%|██████████████████████████████████████████████████████████████████████████████████| 96/96 [00:08<00:00, 10.71it/s]\n"
     ]
    },
    {
     "name": "stdout",
     "output_type": "stream",
     "text": [
      "Epoch:1/10 | Training Loss: 0.08773417685976408 | Validation Loss: 0.0030939799987457013\n"
     ]
    },
    {
     "name": "stderr",
     "output_type": "stream",
     "text": [
      "100%|██████████████████████████████████████████████████████████████████████████████████| 96/96 [00:08<00:00, 10.70it/s]\n"
     ]
    },
    {
     "name": "stdout",
     "output_type": "stream",
     "text": [
      "Epoch:2/10 | Training Loss: 0.0021820369195969156 | Validation Loss: 0.0017186644148420203\n"
     ]
    },
    {
     "name": "stderr",
     "output_type": "stream",
     "text": [
      "100%|██████████████████████████████████████████████████████████████████████████████████| 96/96 [00:08<00:00, 10.75it/s]\n"
     ]
    },
    {
     "name": "stdout",
     "output_type": "stream",
     "text": [
      "Epoch:3/10 | Training Loss: 0.0018392912091561204 | Validation Loss: 0.0020158640743995256\n"
     ]
    },
    {
     "name": "stderr",
     "output_type": "stream",
     "text": [
      "100%|██████████████████████████████████████████████████████████████████████████████████| 96/96 [00:08<00:00, 10.82it/s]\n"
     ]
    },
    {
     "name": "stdout",
     "output_type": "stream",
     "text": [
      "Epoch:4/10 | Training Loss: 0.0011905984082053085 | Validation Loss: 0.0010161577903834934\n"
     ]
    },
    {
     "name": "stderr",
     "output_type": "stream",
     "text": [
      "100%|██████████████████████████████████████████████████████████████████████████████████| 96/96 [00:08<00:00, 10.72it/s]\n"
     ]
    },
    {
     "name": "stdout",
     "output_type": "stream",
     "text": [
      "Epoch:5/10 | Training Loss: 0.0008627276050295526 | Validation Loss: 0.0010218440650284967\n"
     ]
    },
    {
     "name": "stderr",
     "output_type": "stream",
     "text": [
      "100%|██████████████████████████████████████████████████████████████████████████████████| 96/96 [00:08<00:00, 10.80it/s]\n"
     ]
    },
    {
     "name": "stdout",
     "output_type": "stream",
     "text": [
      "Epoch:6/10 | Training Loss: 0.0006890750861809162 | Validation Loss: 0.0006220933467954059\n"
     ]
    },
    {
     "name": "stderr",
     "output_type": "stream",
     "text": [
      "100%|██████████████████████████████████████████████████████████████████████████████████| 96/96 [00:08<00:00, 10.80it/s]\n"
     ]
    },
    {
     "name": "stdout",
     "output_type": "stream",
     "text": [
      "Epoch:7/10 | Training Loss: 0.0005759536027956832 | Validation Loss: 0.00076456139636734\n"
     ]
    },
    {
     "name": "stderr",
     "output_type": "stream",
     "text": [
      "100%|██████████████████████████████████████████████████████████████████████████████████| 96/96 [00:08<00:00, 10.90it/s]\n"
     ]
    },
    {
     "name": "stdout",
     "output_type": "stream",
     "text": [
      "Epoch:8/10 | Training Loss: 0.0005779553830507211 | Validation Loss: 0.0007491805537773126\n"
     ]
    },
    {
     "name": "stderr",
     "output_type": "stream",
     "text": [
      "100%|██████████████████████████████████████████████████████████████████████████████████| 96/96 [00:08<00:00, 10.82it/s]\n"
     ]
    },
    {
     "name": "stdout",
     "output_type": "stream",
     "text": [
      "Epoch:9/10 | Training Loss: 0.0005148044914070246 | Validation Loss: 0.0006458884877660735\n"
     ]
    },
    {
     "name": "stderr",
     "output_type": "stream",
     "text": [
      "100%|██████████████████████████████████████████████████████████████████████████████████| 96/96 [00:08<00:00, 10.82it/s]\n"
     ]
    },
    {
     "name": "stdout",
     "output_type": "stream",
     "text": [
      "Epoch:10/10 | Training Loss: 0.0007020407365416759 | Validation Loss: 0.0010494943443601105\n",
      "Fold 10\n"
     ]
    },
    {
     "name": "stderr",
     "output_type": "stream",
     "text": [
      "100%|██████████████████████████████████████████████████████████████████████████████████| 96/96 [00:08<00:00, 10.74it/s]\n"
     ]
    },
    {
     "name": "stdout",
     "output_type": "stream",
     "text": [
      "Epoch:1/10 | Training Loss: 0.09584295371435776 | Validation Loss: 0.0026879203505814075\n"
     ]
    },
    {
     "name": "stderr",
     "output_type": "stream",
     "text": [
      "100%|██████████████████████████████████████████████████████████████████████████████████| 96/96 [00:08<00:00, 10.76it/s]\n"
     ]
    },
    {
     "name": "stdout",
     "output_type": "stream",
     "text": [
      "Epoch:2/10 | Training Loss: 0.0018327137653007715 | Validation Loss: 0.0014522600368681278\n"
     ]
    },
    {
     "name": "stderr",
     "output_type": "stream",
     "text": [
      "100%|██████████████████████████████████████████████████████████████████████████████████| 96/96 [00:08<00:00, 10.83it/s]\n"
     ]
    },
    {
     "name": "stdout",
     "output_type": "stream",
     "text": [
      "Epoch:3/10 | Training Loss: 0.0012827852036328598 | Validation Loss: 0.0022373937324366784\n"
     ]
    },
    {
     "name": "stderr",
     "output_type": "stream",
     "text": [
      "100%|██████████████████████████████████████████████████████████████████████████████████| 96/96 [00:08<00:00, 10.80it/s]\n"
     ]
    },
    {
     "name": "stdout",
     "output_type": "stream",
     "text": [
      "Epoch:4/10 | Training Loss: 0.0009669918933165415 | Validation Loss: 0.0009113742006857964\n"
     ]
    },
    {
     "name": "stderr",
     "output_type": "stream",
     "text": [
      "100%|██████████████████████████████████████████████████████████████████████████████████| 96/96 [00:08<00:00, 10.86it/s]\n"
     ]
    },
    {
     "name": "stdout",
     "output_type": "stream",
     "text": [
      "Epoch:5/10 | Training Loss: 0.0008064594643049835 | Validation Loss: 0.0010635151781819084\n"
     ]
    },
    {
     "name": "stderr",
     "output_type": "stream",
     "text": [
      "100%|██████████████████████████████████████████████████████████████████████████████████| 96/96 [00:08<00:00, 10.70it/s]\n"
     ]
    },
    {
     "name": "stdout",
     "output_type": "stream",
     "text": [
      "Epoch:6/10 | Training Loss: 0.0006702558500061665 | Validation Loss: 0.0006423594287215648\n"
     ]
    },
    {
     "name": "stderr",
     "output_type": "stream",
     "text": [
      "100%|██████████████████████████████████████████████████████████████████████████████████| 96/96 [00:08<00:00, 10.85it/s]\n"
     ]
    },
    {
     "name": "stdout",
     "output_type": "stream",
     "text": [
      "Epoch:7/10 | Training Loss: 0.0005472192424349487 | Validation Loss: 0.0005143255720296028\n"
     ]
    },
    {
     "name": "stderr",
     "output_type": "stream",
     "text": [
      "100%|██████████████████████████████████████████████████████████████████████████████████| 96/96 [00:08<00:00, 10.73it/s]\n"
     ]
    },
    {
     "name": "stdout",
     "output_type": "stream",
     "text": [
      "Epoch:8/10 | Training Loss: 0.0004855535577614016 | Validation Loss: 0.0006394682542039928\n"
     ]
    },
    {
     "name": "stderr",
     "output_type": "stream",
     "text": [
      "100%|██████████████████████████████████████████████████████████████████████████████████| 96/96 [00:08<00:00, 10.76it/s]\n"
     ]
    },
    {
     "name": "stdout",
     "output_type": "stream",
     "text": [
      "Epoch:9/10 | Training Loss: 0.00045674552742032876 | Validation Loss: 0.0006013205909932202\n"
     ]
    },
    {
     "name": "stderr",
     "output_type": "stream",
     "text": [
      "100%|██████████████████████████████████████████████████████████████████████████████████| 96/96 [00:08<00:00, 10.71it/s]"
     ]
    },
    {
     "name": "stdout",
     "output_type": "stream",
     "text": [
      "Epoch:10/10 | Training Loss: 0.00045397196633227094 | Validation Loss: 0.0008859275152314116\n"
     ]
    },
    {
     "name": "stderr",
     "output_type": "stream",
     "text": [
      "\n"
     ]
    }
   ],
   "source": [
    "import torch.optim as optim\n",
    "batch_size = 32\n",
    "num_epochs = 10\n",
    "\n",
    "# train_size = int(0.9 * len(bikenyc_dataset_train))\n",
    "# valid_size = len(bikenyc_dataset_train) - train_size\n",
    "# train_idx, valid_idx = random_split(range(len(bikenyc_dataset_train)), [train_size, valid_size])\n",
    "# train_loader = DataLoader(bikenyc_dataset_train, batch_size=batch_size, sampler=SubsetRandomSampler(train_idx))\n",
    "# valid_loader = DataLoader(bikenyc_dataset_train, batch_size=batch_size, sampler=SubsetRandomSampler(valid_idx))\n",
    "\n",
    "# model = STResnetNoExt(n_closeness*flow_ch,n_period*flow_ch,n_trend*flow_ch,n_residual_units,map_dim,True).to(device)\n",
    "# optimizer = optim.Adam(model.parameters(), lr=0.001)\n",
    "# loss_fun = nn.MSELoss()\n",
    "\n",
    "# history = {'train_loss': [], 'valid_loss': []}\n",
    "# for epoch in range(num_epochs):\n",
    "#     train_loss=train_epoch(model,train_loader,loss_fun,optimizer)\n",
    "#     valid_loss=valid_epoch(model,valid_loader,loss_fun)\n",
    "#     print(\"Epoch:{}/{} | Training Loss: {} | Validation Loss: {}\".format(epoch + 1, num_epochs, train_loss, valid_loss))\n",
    "#     history['train_loss'].append(train_loss)\n",
    "#     history['valid_loss'].append(valid_loss)\n",
    "\n",
    "from sklearn.model_selection import KFold\n",
    "splits = KFold(n_splits=10,shuffle=True)\n",
    "foldperf={}\n",
    "least_loss_yet = 2 # maximum loss we can expect, can be any large number\n",
    "for fold, (train_idx,valid_idx) in enumerate(splits.split(np.arange(len(bikenyc_dataset_train)))):\n",
    "    print('Fold {}'.format(fold + 1))\n",
    "    train_loader = DataLoader(bikenyc_dataset_train, batch_size=batch_size, sampler=SubsetRandomSampler(train_idx))\n",
    "    valid_loader = DataLoader(bikenyc_dataset_train, batch_size=batch_size, sampler=SubsetRandomSampler(valid_idx))\n",
    "\n",
    "    model = STResnetNoExt(n_closeness*flow_ch,n_period*flow_ch,n_trend*flow_ch,n_residual_units,map_dim,True).to(device)\n",
    "    optimizer = optim.Adam(model.parameters(), lr=0.001)\n",
    "    loss_fun = nn.MSELoss()\n",
    "\n",
    "    history = {'train_loss': [], 'valid_loss': []}\n",
    "    for epoch in range(num_epochs):\n",
    "        train_loss=train_epoch(model,train_loader,loss_fun,optimizer)\n",
    "        valid_loss=valid_epoch(model,valid_loader,loss_fun)\n",
    "        print(\"Epoch:{}/{} | Training Loss: {} | Validation Loss: {}\".format(epoch + 1, num_epochs, train_loss, valid_loss))\n",
    "        history['train_loss'].append(train_loss)\n",
    "        history['valid_loss'].append(valid_loss)\n",
    "        if valid_loss < least_loss_yet:\n",
    "            print('Saving a better model!')\n",
    "            torch.save(model,'Checkpoints/BikeNYC/k_fold_stresnet.pt')\n",
    "            least_loss_yet = valid_loss\n",
    "        \n",
    "    foldperf['fold{}'.format(fold+1)] = history     "
   ]
  },
  {
   "cell_type": "code",
   "execution_count": 10,
   "id": "7720aa07-7750-448e-862e-f0bc66274df7",
   "metadata": {},
   "outputs": [
    {
     "name": "stdout",
     "output_type": "stream",
     "text": [
      "9.475554068260879\n"
     ]
    }
   ],
   "source": [
    "import math\n",
    "test_loader = DataLoader(bikenyc_dataset_test, batch_size=batch_size)\n",
    "test_loss = 0.0\n",
    "model = torch.load('checkpoints/k_fold_stresnet.pt')\n",
    "model.eval()\n",
    "n_batches = 0\n",
    "for x_c, x_p, x_t, y in test_loader:\n",
    "    output = mmn.inverse_transform(model(x_c, x_p, x_t))\n",
    "    loss = loss_fun(output, mmn.inverse_transform(y))\n",
    "    test_loss += loss.item()\n",
    "    n_batches += 1\n",
    "rmse_loss = math.sqrt(test_loss/n_batches)\n",
    "print('Root Mean Square Loss: ', rmse_loss)"
   ]
  },
  {
   "cell_type": "code",
   "execution_count": 11,
   "id": "dcc62552-aa01-47fc-8ce2-f3a12d6f3b3e",
   "metadata": {},
   "outputs": [],
   "source": [
    "flow_pred = np.zeros((len(bikenyc_dataset_test),*map_dim))\n",
    "flow_org = np.zeros((len(bikenyc_dataset_test),*map_dim))\n",
    "for i in range(len(bikenyc_dataset_test)):\n",
    "    x_c, x_p, x_t, y = bikenyc_dataset_test[i]\n",
    "    x_c = torch.unsqueeze(x_c, 0)\n",
    "    x_p = torch.unsqueeze(x_p, 0)\n",
    "    x_t = torch.unsqueeze(x_t, 0)    \n",
    "    y_pred = model(x_c, x_p, x_t)\n",
    "    flow_org[i,:,:,:] = mmn.inverse_transform(y).cpu().detach().numpy()[:,:,:]\n",
    "    flow_pred[i,:,:,:] = mmn.inverse_transform(y_pred).cpu().detach().numpy()[:,:,:]"
   ]
  },
  {
   "cell_type": "code",
   "execution_count": 12,
   "id": "50c13254-5bad-4685-88ec-cc0d36a7356a",
   "metadata": {},
   "outputs": [
    {
     "data": {
      "image/png": "[encoded data removed]",
      "text/plain": [
       "<Figure size 640x480 with 1 Axes>"
      ]
     },
     "metadata": {},
     "output_type": "display_data"
    },
    {
     "data": {
      "image/png": "[encoded data removed]",
      "text/plain": [
       "<Figure size 640x480 with 1 Axes>"
      ]
     },
     "metadata": {},
     "output_type": "display_data"
    }
   ],
   "source": [
    "import matplotlib.pyplot as plt\n",
    "x, y = 10, 3\n",
    "\n",
    "fig = plt.figure()\n",
    "in_flow_org = flow_org[24*7*0:24*7*1,0,x,y]\n",
    "in_flow_pred = flow_pred[24*7*0:24*7*1,0,x,y]\n",
    "t = np.linspace(1, 24*7*1, num=24*7*1)\n",
    "plt.plot(t,in_flow_org,label='Inflow Org')\n",
    "plt.plot(t,in_flow_pred,label='Inflow Pred')\n",
    "plt.xticks(np.linspace(1+19, 168+19, num=8),['Tue','Wed','Thr','Fri','Sat','Sun','Mon',''])\n",
    "plt.title('Inflow in a busy NYC area from Aug 25 - 7pm to Sep 1 - 7pm, 2014')\n",
    "plt.ylabel('Flow')\n",
    "plt.legend(loc='upper right')\n",
    "plt.show()\n",
    "\n",
    "fig = plt.figure()\n",
    "out_flow_org = flow_org[24*7*0:24*7*1,1,x,y]\n",
    "out_flow_pred = flow_pred[24*7*0:24*7*1,1,x,y]\n",
    "t = np.linspace(1, 24*7*1, num=24*7*1)\n",
    "plt.plot(t,out_flow_org,label='Outflow Org')\n",
    "plt.plot(t,out_flow_pred,label='Outflow Pred')\n",
    "plt.xticks(np.linspace(1+19, 168+19, num=8),['Tue','Wed','Thr','Fri','Sat','Sun','Mon',''])\n",
    "plt.title('Outflow in a busy NYC area from Aug 25 - 7pm to Sep 1 - 7pm, 2014')\n",
    "plt.ylabel('Flow')\n",
    "plt.legend(loc='upper right')\n",
    "plt.show()"
   ]
  }
 ],
 "metadata": {
  "kernelspec": {
   "display_name": "Python 3 (ipykernel)",
   "language": "python",
   "name": "python3"
  },
  "language_info": {
   "codemirror_mode": {
    "name": "ipython",
    "version": 3
   },
   "file_extension": ".py",
   "mimetype": "text/x-python",
   "name": "python",
   "nbconvert_exporter": "python",
   "pygments_lexer": "ipython3",
   "version": "3.10.5"
  }
 },
 "nbformat": 4,
 "nbformat_minor": 5
}
