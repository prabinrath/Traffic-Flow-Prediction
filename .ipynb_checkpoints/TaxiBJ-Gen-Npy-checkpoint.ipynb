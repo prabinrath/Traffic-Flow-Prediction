{
 "cells": [
  {
   "cell_type": "code",
   "execution_count": 177,
   "id": "4a81fa51",
   "metadata": {},
   "outputs": [
    {
     "data": {
      "text/html": [
       "<div>\n",
       "<style scoped>\n",
       "    .dataframe tbody tr th:only-of-type {\n",
       "        vertical-align: middle;\n",
       "    }\n",
       "\n",
       "    .dataframe tbody tr th {\n",
       "        vertical-align: top;\n",
       "    }\n",
       "\n",
       "    .dataframe thead th {\n",
       "        text-align: right;\n",
       "    }\n",
       "</style>\n",
       "<table border=\"1\" class=\"dataframe\">\n",
       "  <thead>\n",
       "    <tr style=\"text-align: right;\">\n",
       "      <th></th>\n",
       "      <th>dyna_id</th>\n",
       "      <th>type</th>\n",
       "      <th>time</th>\n",
       "      <th>row_id</th>\n",
       "      <th>column_id</th>\n",
       "      <th>inflow</th>\n",
       "      <th>outflow</th>\n",
       "    </tr>\n",
       "  </thead>\n",
       "  <tbody>\n",
       "    <tr>\n",
       "      <th>0</th>\n",
       "      <td>0</td>\n",
       "      <td>state</td>\n",
       "      <td>2013-07-01T00:00:00Z</td>\n",
       "      <td>0</td>\n",
       "      <td>0</td>\n",
       "      <td>0.0</td>\n",
       "      <td>0.0</td>\n",
       "    </tr>\n",
       "    <tr>\n",
       "      <th>1</th>\n",
       "      <td>1</td>\n",
       "      <td>state</td>\n",
       "      <td>2013-07-01T00:30:00Z</td>\n",
       "      <td>0</td>\n",
       "      <td>0</td>\n",
       "      <td>0.0</td>\n",
       "      <td>0.0</td>\n",
       "    </tr>\n",
       "    <tr>\n",
       "      <th>2</th>\n",
       "      <td>2</td>\n",
       "      <td>state</td>\n",
       "      <td>2013-07-01T01:00:00Z</td>\n",
       "      <td>0</td>\n",
       "      <td>0</td>\n",
       "      <td>0.0</td>\n",
       "      <td>0.0</td>\n",
       "    </tr>\n",
       "    <tr>\n",
       "      <th>3</th>\n",
       "      <td>3</td>\n",
       "      <td>state</td>\n",
       "      <td>2013-07-01T01:30:00Z</td>\n",
       "      <td>0</td>\n",
       "      <td>0</td>\n",
       "      <td>0.0</td>\n",
       "      <td>0.0</td>\n",
       "    </tr>\n",
       "    <tr>\n",
       "      <th>4</th>\n",
       "      <td>4</td>\n",
       "      <td>state</td>\n",
       "      <td>2013-07-01T02:00:00Z</td>\n",
       "      <td>0</td>\n",
       "      <td>0</td>\n",
       "      <td>0.0</td>\n",
       "      <td>0.0</td>\n",
       "    </tr>\n",
       "  </tbody>\n",
       "</table>\n",
       "</div>"
      ],
      "text/plain": [
       "   dyna_id   type                  time  row_id  column_id  inflow  outflow\n",
       "0        0  state  2013-07-01T00:00:00Z       0          0     0.0      0.0\n",
       "1        1  state  2013-07-01T00:30:00Z       0          0     0.0      0.0\n",
       "2        2  state  2013-07-01T01:00:00Z       0          0     0.0      0.0\n",
       "3        3  state  2013-07-01T01:30:00Z       0          0     0.0      0.0\n",
       "4        4  state  2013-07-01T02:00:00Z       0          0     0.0      0.0"
      ]
     },
     "execution_count": 177,
     "metadata": {},
     "output_type": "execute_result"
    },
    {
     "data": {
      "text/plain": [
       "(59006, 21)"
      ]
     },
     "execution_count": 177,
     "metadata": {},
     "output_type": "execute_result"
    },
    {
     "data": {
      "text/plain": [
       "(58977, 21)"
      ]
     },
     "execution_count": 177,
     "metadata": {},
     "output_type": "execute_result"
    }
   ],
   "source": [
    "import numpy as np\n",
    "import os\n",
    "from IPython.core.interactiveshell import InteractiveShell\n",
    "InteractiveShell.ast_node_interactivity = \"all\"\n",
    "import pandas as pd\n",
    "\n",
    "# P1 data\n",
    "data1_path = '../Datasets/TaxiBJ/TAXIBJ2013.grid'\n",
    "# P2 data\n",
    "data2_path = '../Datasets/TaxiBJ/TAXIBJ2014.grid'\n",
    "# P3 data\n",
    "data3_path = '../Datasets/TaxiBJ/TAXIBJ2015.grid'\n",
    "# P4 data\n",
    "data4_path = '../Datasets/TaxiBJ/TAXIBJ2016.grid'\n",
    "# external data\n",
    "extdatapath = '../Datasets/TaxiBJ/TAXIBJ.ext'\n",
    "\n",
    "# load P1 data\n",
    "xdata1 = pd.read_csv(data1_path)\n",
    "xdata1.head()\n",
    "# load P2 data\n",
    "xdata2 = pd.read_csv(data2_path)\n",
    "# load P3 data\n",
    "xdata3 = pd.read_csv(data3_path)\n",
    "# load P4 data\n",
    "xdata4 = pd.read_csv(data4_path)\n",
    "# load external data\n",
    "extdata = pd.read_csv(extdatapath)\n",
    "extdata.shape\n",
    "extdata = extdata.drop_duplicates(subset=['time'], keep='first')\n",
    "extdata.shape"
   ]
  },
  {
   "cell_type": "code",
   "execution_count": 178,
   "id": "cef8f90a",
   "metadata": {},
   "outputs": [
    {
     "data": {
      "text/plain": [
       "4848"
      ]
     },
     "execution_count": 178,
     "metadata": {},
     "output_type": "execute_result"
    },
    {
     "data": {
      "text/plain": [
       "4368"
      ]
     },
     "execution_count": 178,
     "metadata": {},
     "output_type": "execute_result"
    },
    {
     "data": {
      "text/plain": [
       "5520"
      ]
     },
     "execution_count": 178,
     "metadata": {},
     "output_type": "execute_result"
    },
    {
     "data": {
      "text/plain": [
       "6624"
      ]
     },
     "execution_count": 178,
     "metadata": {},
     "output_type": "execute_result"
    }
   ],
   "source": [
    "#xdata1 = xdata1.drop(columns=['dyna_id', 'type'])\n",
    "xdata1_gb = xdata1.groupby('time')#.apply(print)\n",
    "xdata2_gb = xdata2.groupby('time')\n",
    "xdata3_gb = xdata3.groupby('time')#.apply(print)\n",
    "xdata4_gb = xdata4.groupby('time')\n",
    "# number of groups\n",
    "xdata1_gb.ngroups\n",
    "xdata2_gb.ngroups\n",
    "xdata3_gb.ngroups\n",
    "xdata4_gb.ngroups\n",
    "\n",
    "# convert to list\n",
    "xdata1_gb = list(xdata1_gb)\n",
    "xdata2_gb = list(xdata2_gb)\n",
    "xdata3_gb = list(xdata3_gb)\n",
    "xdata4_gb = list(xdata4_gb)\n"
   ]
  },
  {
   "cell_type": "code",
   "execution_count": 179,
   "id": "e1a0c76f",
   "metadata": {},
   "outputs": [],
   "source": [
    "# convert data to numpy array and save as file\n",
    "for j in range(1,5):\n",
    "    size = len(eval(f'xdata{j}_gb'))\n",
    "    flow_data = np.empty([size, 2, 32, 32])\n",
    "    ext_data = np.empty([size, 27]) # 7 day of week, holiday, temp, windspeed, 17 weathers\n",
    "    for i in range(size):\n",
    "        # flow data\n",
    "        data = eval(f'xdata{j}_gb[i][1]')\n",
    "        flowcont.append(data['time'])\n",
    "        data_inflow = data.pivot_table(values='inflow', index='row_id', columns='column_id').to_numpy()\n",
    "        data_outflow = data.pivot_table(values='outflow', index='row_id', columns='column_id').to_numpy()\n",
    "        flow_data[i, 0] = data_inflow\n",
    "        flow_data[i, 1] = data_outflow\n",
    "        # external data\n",
    "        time = eval(f'xdata{j}_gb[i][0]')\n",
    "        date = pd.to_datetime(time, format='%Y-%m-%dT%H:%M:%SZ').dayofweek\n",
    "        days = np.zeros([1, 8])\n",
    "        days[0, date] = 1\n",
    "        if date > 4: # is a weekend date\n",
    "            days[0, 7] = 1 # holiday index\n",
    "        edata = extdata.loc[extdata['time']==time].drop(columns=['ext_id', 'time'])\n",
    "        ext_data[i] = np.concatenate((days, edata), axis=1)\n",
    "    np.save(f'../Datasets/TaxiBJ{2012+j}', flow_data)\n",
    "    np.save(f'../Datasets/TaxiBJext{2012+j}', ext_data)\n"
   ]
  },
  {
   "cell_type": "code",
   "execution_count": 180,
   "id": "8e634d97",
   "metadata": {},
   "outputs": [],
   "source": [
    "# split TaxiBJ2016 in half since file exceeds 100MB\n",
    "data = np.load('../Datasets/TaxiBJ2016.npy')\n",
    "half = int(len(data)/2)\n",
    "data1 = data[0:half]\n",
    "data2 = data[half:]\n",
    "np.save(f'../Datasets/TaxiBJ2016_1', data1)\n",
    "np.save(f'../Datasets/TaxiBJ2016_2', data2)"
   ]
  },
  {
   "cell_type": "code",
   "execution_count": 185,
   "id": "0ab4e49c",
   "metadata": {},
   "outputs": [
    {
     "data": {
      "text/plain": [
       "(3312, 2, 32, 32)"
      ]
     },
     "execution_count": 185,
     "metadata": {},
     "output_type": "execute_result"
    },
    {
     "data": {
      "text/plain": [
       "(6624, 27)"
      ]
     },
     "execution_count": 185,
     "metadata": {},
     "output_type": "execute_result"
    }
   ],
   "source": [
    "# verify sizes\n",
    "data = np.load('../Datasets/TaxiBJ2016_2.npy')\n",
    "data2 = np.load('../Datasets/TaxiBJext2016.npy')\n",
    "data.shape\n",
    "data2.shape"
   ]
  },
  {
   "cell_type": "code",
   "execution_count": null,
   "id": "685cc769",
   "metadata": {},
   "outputs": [],
   "source": []
  }
 ],
 "metadata": {
  "kernelspec": {
   "display_name": "Python 3 (ipykernel)",
   "language": "python",
   "name": "python3"
  },
  "language_info": {
   "codemirror_mode": {
    "name": "ipython",
    "version": 3
   },
   "file_extension": ".py",
   "mimetype": "text/x-python",
   "name": "python",
   "nbconvert_exporter": "python",
   "pygments_lexer": "ipython3",
   "version": "3.9.13"
  }
 },
 "nbformat": 4,
 "nbformat_minor": 5
}
