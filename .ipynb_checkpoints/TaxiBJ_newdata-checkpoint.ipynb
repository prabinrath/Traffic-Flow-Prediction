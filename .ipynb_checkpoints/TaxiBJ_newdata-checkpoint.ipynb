{
 "cells": [
  {
   "cell_type": "code",
   "execution_count": 2,
   "id": "4a81fa51",
   "metadata": {},
   "outputs": [
    {
     "data": {
      "text/html": [
       "<div>\n",
       "<style scoped>\n",
       "    .dataframe tbody tr th:only-of-type {\n",
       "        vertical-align: middle;\n",
       "    }\n",
       "\n",
       "    .dataframe tbody tr th {\n",
       "        vertical-align: top;\n",
       "    }\n",
       "\n",
       "    .dataframe thead th {\n",
       "        text-align: right;\n",
       "    }\n",
       "</style>\n",
       "<table border=\"1\" class=\"dataframe\">\n",
       "  <thead>\n",
       "    <tr style=\"text-align: right;\">\n",
       "      <th></th>\n",
       "      <th>dyna_id</th>\n",
       "      <th>type</th>\n",
       "      <th>time</th>\n",
       "      <th>row_id</th>\n",
       "      <th>column_id</th>\n",
       "      <th>inflow</th>\n",
       "      <th>outflow</th>\n",
       "    </tr>\n",
       "  </thead>\n",
       "  <tbody>\n",
       "    <tr>\n",
       "      <th>0</th>\n",
       "      <td>0</td>\n",
       "      <td>state</td>\n",
       "      <td>2015-11-02T00:00:00Z</td>\n",
       "      <td>0</td>\n",
       "      <td>0</td>\n",
       "      <td>0.0</td>\n",
       "      <td>0.0</td>\n",
       "    </tr>\n",
       "    <tr>\n",
       "      <th>1</th>\n",
       "      <td>1</td>\n",
       "      <td>state</td>\n",
       "      <td>2015-11-02T00:30:00Z</td>\n",
       "      <td>0</td>\n",
       "      <td>0</td>\n",
       "      <td>0.0</td>\n",
       "      <td>0.0</td>\n",
       "    </tr>\n",
       "    <tr>\n",
       "      <th>2</th>\n",
       "      <td>2</td>\n",
       "      <td>state</td>\n",
       "      <td>2015-11-02T01:00:00Z</td>\n",
       "      <td>0</td>\n",
       "      <td>0</td>\n",
       "      <td>0.0</td>\n",
       "      <td>0.0</td>\n",
       "    </tr>\n",
       "    <tr>\n",
       "      <th>3</th>\n",
       "      <td>3</td>\n",
       "      <td>state</td>\n",
       "      <td>2015-11-02T01:30:00Z</td>\n",
       "      <td>0</td>\n",
       "      <td>0</td>\n",
       "      <td>0.0</td>\n",
       "      <td>0.0</td>\n",
       "    </tr>\n",
       "    <tr>\n",
       "      <th>4</th>\n",
       "      <td>4</td>\n",
       "      <td>state</td>\n",
       "      <td>2015-11-02T02:00:00Z</td>\n",
       "      <td>0</td>\n",
       "      <td>0</td>\n",
       "      <td>0.0</td>\n",
       "      <td>0.0</td>\n",
       "    </tr>\n",
       "  </tbody>\n",
       "</table>\n",
       "</div>"
      ],
      "text/plain": [
       "   dyna_id   type                  time  row_id  column_id  inflow  outflow\n",
       "0        0  state  2015-11-02T00:00:00Z       0          0     0.0      0.0\n",
       "1        1  state  2015-11-02T00:30:00Z       0          0     0.0      0.0\n",
       "2        2  state  2015-11-02T01:00:00Z       0          0     0.0      0.0\n",
       "3        3  state  2015-11-02T01:30:00Z       0          0     0.0      0.0\n",
       "4        4  state  2015-11-02T02:00:00Z       0          0     0.0      0.0"
      ]
     },
     "execution_count": 2,
     "metadata": {},
     "output_type": "execute_result"
    }
   ],
   "source": [
    "import numpy as np\n",
    "import os\n",
    "from IPython.core.interactiveshell import InteractiveShell\n",
    "InteractiveShell.ast_node_interactivity = \"all\"\n",
    "import pandas as pd\n",
    "\n",
    "# P1 data\n",
    "data1_path = '../Datasets/TaxiBJ/TAXIBJ2013.grid'\n",
    "# P2 data\n",
    "data2_path = '../Datasets/TaxiBJ/TAXIBJ2014.grid'\n",
    "# P3 data\n",
    "data3_path = '../Datasets/TaxiBJ/TAXIBJ2015.grid'\n",
    "# P4 data\n",
    "data4_path = '../Datasets/TaxiBJ/TAXIBJ2016.grid'\n",
    "\n",
    "# load P1 data\n",
    "xdata1 = pd.read_csv(data1_path)\n",
    "xdata1.head()\n",
    "# load P2 data\n",
    "xdata2 = pd.read_csv(data2_path)\n",
    "xdata2.head()\n",
    "# load P3 data\n",
    "xdata3 = pd.read_csv(data3_path)\n",
    "xdata3.head()\n",
    "# load P4 data\n",
    "xdata4 = pd.read_csv(data4_path)\n",
    "xdata4.head()"
   ]
  },
  {
   "cell_type": "code",
   "execution_count": 7,
   "id": "cef8f90a",
   "metadata": {},
   "outputs": [
    {
     "data": {
      "text/plain": [
       "4849"
      ]
     },
     "execution_count": 7,
     "metadata": {},
     "output_type": "execute_result"
    },
    {
     "data": {
      "text/plain": [
       "4368"
      ]
     },
     "execution_count": 7,
     "metadata": {},
     "output_type": "execute_result"
    },
    {
     "data": {
      "text/plain": [
       "5520"
      ]
     },
     "execution_count": 7,
     "metadata": {},
     "output_type": "execute_result"
    },
    {
     "data": {
      "text/plain": [
       "6624"
      ]
     },
     "execution_count": 7,
     "metadata": {},
     "output_type": "execute_result"
    },
    {
     "data": {
      "text/plain": [
       "('\\t1',\n",
       "          dyna_id   type time  row_id  column_id  inflow  outflow\n",
       " 4964268  4964268  state  \\t1      31        1.0     3.0      NaN)"
      ]
     },
     "execution_count": 7,
     "metadata": {},
     "output_type": "execute_result"
    }
   ],
   "source": [
    "#xdata1 = xdata1.drop(columns=['dyna_id', 'type'])\n",
    "xdata1_gb = xdata1.groupby('time')#.apply(print)\n",
    "xdata2_gb = xdata2.groupby('time')\n",
    "xdata3_gb = xdata3.groupby('time')#.apply(print)\n",
    "xdata4_gb = xdata4.groupby('time')\n",
    "\n",
    "# number of groups\n",
    "xdata1_gb.ngroups\n",
    "xdata2_gb.ngroups\n",
    "xdata3_gb.ngroups\n",
    "xdata4_gb.ngroups\n",
    "\n",
    "# convert to list\n",
    "xdata1_gb = list(xdata1_gb)\n",
    "xdata1_gb[0]\n",
    "xdata2_gb = list(xdata2_gb)\n",
    "#xdata2_gb[0]\n",
    "xdata3_gb = list(xdata3_gb)\n",
    "#xdata3_gb[0]\n",
    "xdata4_gb = list(xdata4_gb)\n",
    "#xdata4_gb[0]\n",
    "# remove first group since it is not right\n",
    "xdata1_gb = xdata1_gb[1:]"
   ]
  },
  {
   "cell_type": "code",
   "execution_count": 8,
   "id": "4e5ccae1",
   "metadata": {
    "scrolled": true
   },
   "outputs": [
    {
     "data": {
      "text/plain": [
       "array([[  0.,  20.,  41., ...,   7.,   1.,  40.],\n",
       "       [  0.,  11.,   8., ...,  22.,   7.,  96.],\n",
       "       [  0.,   9.,   5., ...,  14., 198., 117.],\n",
       "       ...,\n",
       "       [  1.,   3.,   4., ...,   8.,   6.,   3.],\n",
       "       [  0.,   0.,   0., ...,   9.,   0.,   7.],\n",
       "       [  1.,   0.,   0., ...,  17.,  20.,   7.]])"
      ]
     },
     "execution_count": 8,
     "metadata": {},
     "output_type": "execute_result"
    },
    {
     "data": {
      "text/plain": [
       "array([[  0.,  21.,  44., ...,   6.,   1.,  38.],\n",
       "       [  0.,  11.,   8., ...,  23.,   6.,  93.],\n",
       "       [  0.,   9.,   5., ...,  15., 201., 120.],\n",
       "       ...,\n",
       "       [  2.,   3.,   4., ...,   7.,   7.,   3.],\n",
       "       [  0.,   0.,   0., ...,   9.,   0.,   7.],\n",
       "       [  1.,   0.,   0., ...,  19.,  21.,   8.]])"
      ]
     },
     "execution_count": 8,
     "metadata": {},
     "output_type": "execute_result"
    }
   ],
   "source": [
    "# nth data (nth, 2, 32, 32)\n",
    "n = 0\n",
    "# xdata1_gb[n][0] is the specific 30 minute interval time\n",
    "data = xdata1_gb[n][1] # the associated dataframe\n",
    "data_inflow = data.pivot_table(values='inflow', index='row_id', columns='column_id').to_numpy()\n",
    "data_outflow = data.pivot_table(values='outflow', index='row_id', columns='column_id').to_numpy()\n",
    "\n",
    "data_inflow\n",
    "data_outflow"
   ]
  },
  {
   "cell_type": "code",
   "execution_count": 9,
   "id": "139330c2",
   "metadata": {},
   "outputs": [
    {
     "data": {
      "text/plain": [
       "(1, 2, 32, 32)"
      ]
     },
     "execution_count": 9,
     "metadata": {},
     "output_type": "execute_result"
    }
   ],
   "source": [
    "# a single array containing nth data (nth, 2, 32, 32)\n",
    "data_output = np.array([[data_inflow, data_outflow]])\n",
    "data_output.shape"
   ]
  },
  {
   "cell_type": "code",
   "execution_count": 10,
   "id": "e1a0c76f",
   "metadata": {},
   "outputs": [],
   "source": [
    "# convert data to numpy array and save as file\n",
    "for j in range(1,5):\n",
    "    size = len(eval(f'xdata{j}_gb'))\n",
    "    entire_data = np.empty([size, 2, 32, 32])\n",
    "    for i in range(size):\n",
    "        data = eval(f'xdata{j}_gb[i][1]')\n",
    "        data_inflow = data.pivot_table(values='inflow', index='row_id', columns='column_id').to_numpy()\n",
    "        data_outflow = data.pivot_table(values='outflow', index='row_id', columns='column_id').to_numpy()\n",
    "        entire_data[i, 0] = data_inflow\n",
    "        entire_data[i, 1] = data_outflow\n",
    "    np.save(f'../Datasets/TaxiBJ{2012+j}', entire_data)"
   ]
  },
  {
   "cell_type": "code",
   "execution_count": 11,
   "id": "8e634d97",
   "metadata": {},
   "outputs": [],
   "source": [
    "# split TaxiBJ2016 in half since file exceeds 100MB\n",
    "data = np.load('../Datasets/TaxiBJ2016.npy')\n",
    "half = int(len(data)/2)\n",
    "data1 = data[0:half]\n",
    "data2 = data[half:]\n",
    "np.save(f'../Datasets/TaxiBJ2016_1', data1)\n",
    "np.save(f'../Datasets/TaxiBJ2016_2', data2)"
   ]
  },
  {
   "cell_type": "code",
   "execution_count": 13,
   "id": "55333463",
   "metadata": {},
   "outputs": [
    {
     "data": {
      "text/plain": [
       "(6624, 2, 32, 32)"
      ]
     },
     "execution_count": 13,
     "metadata": {},
     "output_type": "execute_result"
    }
   ],
   "source": [
    "data3 = np.concatenate((data1, data2))\n",
    "data3.shape"
   ]
  },
  {
   "cell_type": "code",
   "execution_count": null,
   "id": "0ab4e49c",
   "metadata": {},
   "outputs": [],
   "source": []
  }
 ],
 "metadata": {
  "kernelspec": {
   "display_name": "Python 3 (ipykernel)",
   "language": "python",
   "name": "python3"
  },
  "language_info": {
   "codemirror_mode": {
    "name": "ipython",
    "version": 3
   },
   "file_extension": ".py",
   "mimetype": "text/x-python",
   "name": "python",
   "nbconvert_exporter": "python",
   "pygments_lexer": "ipython3",
   "version": "3.9.13"
  }
 },
 "nbformat": 4,
 "nbformat_minor": 5
}
