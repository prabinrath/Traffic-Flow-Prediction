{
 "cells": [
  {
   "cell_type": "code",
   "execution_count": 1,
   "id": "4a81fa51",
   "metadata": {},
   "outputs": [
    {
     "data": {
      "text/html": [
       "<div>\n",
       "<style scoped>\n",
       "    .dataframe tbody tr th:only-of-type {\n",
       "        vertical-align: middle;\n",
       "    }\n",
       "\n",
       "    .dataframe tbody tr th {\n",
       "        vertical-align: top;\n",
       "    }\n",
       "\n",
       "    .dataframe thead th {\n",
       "        text-align: right;\n",
       "    }\n",
       "</style>\n",
       "<table border=\"1\" class=\"dataframe\">\n",
       "  <thead>\n",
       "    <tr style=\"text-align: right;\">\n",
       "      <th></th>\n",
       "      <th>dyna_id</th>\n",
       "      <th>type</th>\n",
       "      <th>time</th>\n",
       "      <th>row_id</th>\n",
       "      <th>column_id</th>\n",
       "      <th>inflow</th>\n",
       "      <th>outflow</th>\n",
       "    </tr>\n",
       "  </thead>\n",
       "  <tbody>\n",
       "    <tr>\n",
       "      <th>0</th>\n",
       "      <td>0</td>\n",
       "      <td>state</td>\n",
       "      <td>2013-07-01T00:00:00Z</td>\n",
       "      <td>0</td>\n",
       "      <td>0.0</td>\n",
       "      <td>0.0</td>\n",
       "      <td>0.0</td>\n",
       "    </tr>\n",
       "    <tr>\n",
       "      <th>1</th>\n",
       "      <td>1</td>\n",
       "      <td>state</td>\n",
       "      <td>2013-07-01T00:30:00Z</td>\n",
       "      <td>0</td>\n",
       "      <td>0.0</td>\n",
       "      <td>0.0</td>\n",
       "      <td>0.0</td>\n",
       "    </tr>\n",
       "    <tr>\n",
       "      <th>2</th>\n",
       "      <td>2</td>\n",
       "      <td>state</td>\n",
       "      <td>2013-07-01T01:00:00Z</td>\n",
       "      <td>0</td>\n",
       "      <td>0.0</td>\n",
       "      <td>0.0</td>\n",
       "      <td>0.0</td>\n",
       "    </tr>\n",
       "    <tr>\n",
       "      <th>3</th>\n",
       "      <td>3</td>\n",
       "      <td>state</td>\n",
       "      <td>2013-07-01T01:30:00Z</td>\n",
       "      <td>0</td>\n",
       "      <td>0.0</td>\n",
       "      <td>0.0</td>\n",
       "      <td>0.0</td>\n",
       "    </tr>\n",
       "    <tr>\n",
       "      <th>4</th>\n",
       "      <td>4</td>\n",
       "      <td>state</td>\n",
       "      <td>2013-07-01T02:00:00Z</td>\n",
       "      <td>0</td>\n",
       "      <td>0.0</td>\n",
       "      <td>0.0</td>\n",
       "      <td>0.0</td>\n",
       "    </tr>\n",
       "    <tr>\n",
       "      <th>...</th>\n",
       "      <td>...</td>\n",
       "      <td>...</td>\n",
       "      <td>...</td>\n",
       "      <td>...</td>\n",
       "      <td>...</td>\n",
       "      <td>...</td>\n",
       "      <td>...</td>\n",
       "    </tr>\n",
       "    <tr>\n",
       "      <th>4964347</th>\n",
       "      <td>4964347</td>\n",
       "      <td>state</td>\n",
       "      <td>2013-10-29T21:30:00Z</td>\n",
       "      <td>31</td>\n",
       "      <td>31.0</td>\n",
       "      <td>8.0</td>\n",
       "      <td>7.0</td>\n",
       "    </tr>\n",
       "    <tr>\n",
       "      <th>4964348</th>\n",
       "      <td>4964348</td>\n",
       "      <td>state</td>\n",
       "      <td>2013-10-29T22:00:00Z</td>\n",
       "      <td>31</td>\n",
       "      <td>31.0</td>\n",
       "      <td>9.0</td>\n",
       "      <td>7.0</td>\n",
       "    </tr>\n",
       "    <tr>\n",
       "      <th>4964349</th>\n",
       "      <td>4964349</td>\n",
       "      <td>state</td>\n",
       "      <td>2013-10-29T22:30:00Z</td>\n",
       "      <td>31</td>\n",
       "      <td>31.0</td>\n",
       "      <td>10.0</td>\n",
       "      <td>10.0</td>\n",
       "    </tr>\n",
       "    <tr>\n",
       "      <th>4964350</th>\n",
       "      <td>4964350</td>\n",
       "      <td>state</td>\n",
       "      <td>2013-10-29T23:00:00Z</td>\n",
       "      <td>31</td>\n",
       "      <td>31.0</td>\n",
       "      <td>6.0</td>\n",
       "      <td>6.0</td>\n",
       "    </tr>\n",
       "    <tr>\n",
       "      <th>4964351</th>\n",
       "      <td>4964351</td>\n",
       "      <td>state</td>\n",
       "      <td>2013-10-29T23:30:00Z</td>\n",
       "      <td>31</td>\n",
       "      <td>31.0</td>\n",
       "      <td>8.0</td>\n",
       "      <td>9.0</td>\n",
       "    </tr>\n",
       "  </tbody>\n",
       "</table>\n",
       "<p>4964352 rows × 7 columns</p>\n",
       "</div>"
      ],
      "text/plain": [
       "         dyna_id   type                  time  row_id  column_id  inflow  \\\n",
       "0              0  state  2013-07-01T00:00:00Z       0        0.0     0.0   \n",
       "1              1  state  2013-07-01T00:30:00Z       0        0.0     0.0   \n",
       "2              2  state  2013-07-01T01:00:00Z       0        0.0     0.0   \n",
       "3              3  state  2013-07-01T01:30:00Z       0        0.0     0.0   \n",
       "4              4  state  2013-07-01T02:00:00Z       0        0.0     0.0   \n",
       "...          ...    ...                   ...     ...        ...     ...   \n",
       "4964347  4964347  state  2013-10-29T21:30:00Z      31       31.0     8.0   \n",
       "4964348  4964348  state  2013-10-29T22:00:00Z      31       31.0     9.0   \n",
       "4964349  4964349  state  2013-10-29T22:30:00Z      31       31.0    10.0   \n",
       "4964350  4964350  state  2013-10-29T23:00:00Z      31       31.0     6.0   \n",
       "4964351  4964351  state  2013-10-29T23:30:00Z      31       31.0     8.0   \n",
       "\n",
       "         outflow  \n",
       "0            0.0  \n",
       "1            0.0  \n",
       "2            0.0  \n",
       "3            0.0  \n",
       "4            0.0  \n",
       "...          ...  \n",
       "4964347      7.0  \n",
       "4964348      7.0  \n",
       "4964349     10.0  \n",
       "4964350      6.0  \n",
       "4964351      9.0  \n",
       "\n",
       "[4964352 rows x 7 columns]"
      ]
     },
     "execution_count": 1,
     "metadata": {},
     "output_type": "execute_result"
    }
   ],
   "source": [
    "import numpy as np\n",
    "import os\n",
    "from IPython.core.interactiveshell import InteractiveShell\n",
    "InteractiveShell.ast_node_interactivity = \"all\"\n",
    "import pandas as pd\n",
    "\n",
    "# P1 data\n",
    "data1_path = '../Datasets/TaxiBJ_main/TAXIBJ2013.grid'\n",
    "\n",
    "# load P1 data\n",
    "xdata1 = pd.read_csv(data1_path)\n",
    "xdata1"
   ]
  },
  {
   "cell_type": "code",
   "execution_count": 2,
   "id": "cef8f90a",
   "metadata": {},
   "outputs": [
    {
     "data": {
      "text/plain": [
       "4849"
      ]
     },
     "execution_count": 2,
     "metadata": {},
     "output_type": "execute_result"
    },
    {
     "data": {
      "text/plain": [
       "('\\t1',\n",
       "         time  row_id  column_id  inflow  outflow\n",
       " 4964268  \\t1      31        1.0     3.0      NaN)"
      ]
     },
     "execution_count": 2,
     "metadata": {},
     "output_type": "execute_result"
    },
    {
     "data": {
      "text/plain": [
       "4848"
      ]
     },
     "execution_count": 2,
     "metadata": {},
     "output_type": "execute_result"
    }
   ],
   "source": [
    "xdata1 = xdata1.drop(columns=['dyna_id', 'type'])\n",
    "xdata1_gb = xdata1.groupby('time')#.apply(print)\n",
    "# number of groups\n",
    "xdata1_gb.ngroups\n",
    "\n",
    "# convert to list\n",
    "xdata1_gb = list(xdata1_gb)\n",
    "xdata1_gb[0]\n",
    "# remove first group since it is not right\n",
    "xdata1_gb = xdata1_gb[1:]\n",
    "len(xdata1_gb)"
   ]
  },
  {
   "cell_type": "code",
   "execution_count": 3,
   "id": "4e5ccae1",
   "metadata": {
    "scrolled": true
   },
   "outputs": [
    {
     "data": {
      "text/plain": [
       "array([[  0.,  20.,  41., ...,   7.,   1.,  40.],\n",
       "       [  0.,  11.,   8., ...,  22.,   7.,  96.],\n",
       "       [  0.,   9.,   5., ...,  14., 198., 117.],\n",
       "       ...,\n",
       "       [  1.,   3.,   4., ...,   8.,   6.,   3.],\n",
       "       [  0.,   0.,   0., ...,   9.,   0.,   7.],\n",
       "       [  1.,   0.,   0., ...,  17.,  20.,   7.]])"
      ]
     },
     "execution_count": 3,
     "metadata": {},
     "output_type": "execute_result"
    },
    {
     "data": {
      "text/plain": [
       "array([[  0.,  21.,  44., ...,   6.,   1.,  38.],\n",
       "       [  0.,  11.,   8., ...,  23.,   6.,  93.],\n",
       "       [  0.,   9.,   5., ...,  15., 201., 120.],\n",
       "       ...,\n",
       "       [  2.,   3.,   4., ...,   7.,   7.,   3.],\n",
       "       [  0.,   0.,   0., ...,   9.,   0.,   7.],\n",
       "       [  1.,   0.,   0., ...,  19.,  21.,   8.]])"
      ]
     },
     "execution_count": 3,
     "metadata": {},
     "output_type": "execute_result"
    }
   ],
   "source": [
    "# nth data (nth, 2, 32, 32)\n",
    "n = 0\n",
    "# xdata1_gb[n][0] is the specific 30 minute interval time\n",
    "data = xdata1_gb[n][1] # the associated dataframe\n",
    "data_inflow = data.pivot_table(values='inflow', index='row_id', columns='column_id').to_numpy()\n",
    "data_outflow = data.pivot_table(values='outflow', index='row_id', columns='column_id').to_numpy()\n",
    "\n",
    "data_inflow\n",
    "data_outflow"
   ]
  },
  {
   "cell_type": "code",
   "execution_count": 4,
   "id": "139330c2",
   "metadata": {},
   "outputs": [
    {
     "data": {
      "text/plain": [
       "(1, 2, 32, 32)"
      ]
     },
     "execution_count": 4,
     "metadata": {},
     "output_type": "execute_result"
    }
   ],
   "source": [
    "# a single array containing nth data (nth, 2, 32, 32)\n",
    "data_output = np.array([[data_inflow, data_outflow]])\n",
    "data_output.shape"
   ]
  },
  {
   "cell_type": "code",
   "execution_count": 5,
   "id": "e1a0c76f",
   "metadata": {},
   "outputs": [],
   "source": [
    "# convert data to numpy array\n",
    "size = len(xdata1_gb)\n",
    "entire_data = np.empty([size, 2, 32, 32])\n",
    "for i in range(size):\n",
    "    data = xdata1_gb[i][1]\n",
    "    data_inflow = data.pivot_table(values='inflow', index='row_id', columns='column_id').to_numpy()\n",
    "    data_outflow = data.pivot_table(values='outflow', index='row_id', columns='column_id').to_numpy()\n",
    "    entire_data[i, 0] = data_inflow\n",
    "    entire_data[i, 1] = data_outflow"
   ]
  },
  {
   "cell_type": "code",
   "execution_count": 6,
   "id": "a7d89e4e",
   "metadata": {},
   "outputs": [
    {
     "data": {
      "text/plain": [
       "array([[[  0.,  13.,  23., ...,   8.,   2.,  28.],\n",
       "        [  0.,  19.,  11., ...,  21.,   9.,  78.],\n",
       "        [  0.,   9.,  11., ...,  10., 248., 172.],\n",
       "        ...,\n",
       "        [  3.,   4.,   6., ...,  11.,   9.,   3.],\n",
       "        [  1.,   0.,   0., ...,  11.,   0.,  10.],\n",
       "        [  1.,   1.,   0., ...,  14.,  21.,   8.]],\n",
       "\n",
       "       [[  0.,  13.,  27., ...,   8.,   2.,  27.],\n",
       "        [  0.,  18.,  12., ...,  22.,   8.,  81.],\n",
       "        [  0.,   9.,  10., ...,  10., 239., 167.],\n",
       "        ...,\n",
       "        [  2.,   4.,   6., ...,  11.,   9.,   3.],\n",
       "        [  1.,   0.,   0., ...,  11.,   0.,   8.],\n",
       "        [  1.,   1.,   0., ...,  15.,  21.,   9.]]])"
      ]
     },
     "execution_count": 6,
     "metadata": {},
     "output_type": "execute_result"
    }
   ],
   "source": [
    "entire_data[4847]"
   ]
  },
  {
   "cell_type": "code",
   "execution_count": null,
   "id": "8e634d97",
   "metadata": {},
   "outputs": [],
   "source": []
  }
 ],
 "metadata": {
  "kernelspec": {
   "display_name": "Python 3 (ipykernel)",
   "language": "python",
   "name": "python3"
  },
  "language_info": {
   "codemirror_mode": {
    "name": "ipython",
    "version": 3
   },
   "file_extension": ".py",
   "mimetype": "text/x-python",
   "name": "python",
   "nbconvert_exporter": "python",
   "pygments_lexer": "ipython3",
   "version": "3.9.13"
  }
 },
 "nbformat": 4,
 "nbformat_minor": 5
}
